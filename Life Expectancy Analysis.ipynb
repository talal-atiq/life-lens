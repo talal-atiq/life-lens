{
 "cells": [
  {
   "cell_type": "markdown",
   "id": "8c1df89c-f4fe-460b-8afa-4a273c61ac59",
   "metadata": {},
   "source": [
    "# Statistical Methods in Data Science:\n",
    "## Assignment - 1:"
   ]
  },
  {
   "cell_type": "markdown",
   "id": "b2a5d9c3-8045-427b-8674-b3e48abd22a2",
   "metadata": {},
   "source": [
    "## Group Members:\n",
    "## Talal Atiq - FA22-BDS-041\n",
    "## Abdullah Rizwan - FA22-BDS-003\n",
    "## M. Nouman - FA22-BDS-028"
   ]
  },
  {
   "cell_type": "markdown",
   "id": "fac26311-6aa3-438b-b90d-441a96ab94c9",
   "metadata": {},
   "source": [
    "*Importing dataset and the necessary libraries.*\n"
   ]
  },
  {
   "cell_type": "markdown",
   "id": "045b952b-69a2-493e-999e-4530e8ad5136",
   "metadata": {},
   "source": [
    "**Dataset Name: Life Expectancy**"
   ]
  },
  {
   "cell_type": "markdown",
   "id": "6ad36093-fe5a-436a-ba2b-babc1f083a0c",
   "metadata": {},
   "source": [
    "**Source: World Health Organization**"
   ]
  },
  {
   "cell_type": "markdown",
   "id": "ae10e000-88f3-4873-973a-019cd386bc92",
   "metadata": {},
   "source": [
    "**Duration: 2000-2015**"
   ]
  },
  {
   "cell_type": "code",
   "execution_count": 3,
   "id": "8a43490d-c6ca-4d2b-a5b1-858e9409fbf9",
   "metadata": {},
   "outputs": [],
   "source": [
    "import pandas as pd\n",
    "df = pd.read_csv('Life-Expectancy-Data-Updated.csv')"
   ]
  },
  {
   "cell_type": "code",
   "execution_count": 4,
   "id": "4ab5a1cb-50b4-43b6-a03f-a7eaf16c19d1",
   "metadata": {},
   "outputs": [],
   "source": [
    "import numpy as np"
   ]
  },
  {
   "cell_type": "code",
   "execution_count": 5,
   "id": "ef2fde21-724d-4a94-a267-d6229d948f95",
   "metadata": {},
   "outputs": [],
   "source": [
    "import matplotlib.pyplot as plt"
   ]
  },
  {
   "cell_type": "code",
   "execution_count": 6,
   "id": "8b235c52-299e-4244-94fb-8f316384d6ea",
   "metadata": {},
   "outputs": [
    {
     "data": {
      "text/html": [
       "<div>\n",
       "<style scoped>\n",
       "    .dataframe tbody tr th:only-of-type {\n",
       "        vertical-align: middle;\n",
       "    }\n",
       "\n",
       "    .dataframe tbody tr th {\n",
       "        vertical-align: top;\n",
       "    }\n",
       "\n",
       "    .dataframe thead th {\n",
       "        text-align: right;\n",
       "    }\n",
       "</style>\n",
       "<table border=\"1\" class=\"dataframe\">\n",
       "  <thead>\n",
       "    <tr style=\"text-align: right;\">\n",
       "      <th></th>\n",
       "      <th>Country</th>\n",
       "      <th>Region</th>\n",
       "      <th>Year</th>\n",
       "      <th>Infant_deaths</th>\n",
       "      <th>Under_five_deaths</th>\n",
       "      <th>Adult_mortality</th>\n",
       "      <th>Alcohol_consumption</th>\n",
       "      <th>Hepatitis_B</th>\n",
       "      <th>Measles</th>\n",
       "      <th>BMI</th>\n",
       "      <th>...</th>\n",
       "      <th>Diphtheria</th>\n",
       "      <th>Incidents_HIV</th>\n",
       "      <th>GDP_per_capita</th>\n",
       "      <th>Population_mln</th>\n",
       "      <th>Thinness_ten_nineteen_years</th>\n",
       "      <th>Thinness_five_nine_years</th>\n",
       "      <th>Schooling</th>\n",
       "      <th>Economy_status_Developed</th>\n",
       "      <th>Economy_status_Developing</th>\n",
       "      <th>Life_expectancy</th>\n",
       "    </tr>\n",
       "  </thead>\n",
       "  <tbody>\n",
       "    <tr>\n",
       "      <th>0</th>\n",
       "      <td>Turkiye</td>\n",
       "      <td>Middle East</td>\n",
       "      <td>2015</td>\n",
       "      <td>11.1</td>\n",
       "      <td>13.0</td>\n",
       "      <td>105.8240</td>\n",
       "      <td>1.32</td>\n",
       "      <td>97</td>\n",
       "      <td>65</td>\n",
       "      <td>27.8</td>\n",
       "      <td>...</td>\n",
       "      <td>97</td>\n",
       "      <td>0.08</td>\n",
       "      <td>11006</td>\n",
       "      <td>78.53</td>\n",
       "      <td>4.9</td>\n",
       "      <td>4.8</td>\n",
       "      <td>7.8</td>\n",
       "      <td>0</td>\n",
       "      <td>1</td>\n",
       "      <td>76.5</td>\n",
       "    </tr>\n",
       "    <tr>\n",
       "      <th>1</th>\n",
       "      <td>Spain</td>\n",
       "      <td>European Union</td>\n",
       "      <td>2015</td>\n",
       "      <td>2.7</td>\n",
       "      <td>3.3</td>\n",
       "      <td>57.9025</td>\n",
       "      <td>10.35</td>\n",
       "      <td>97</td>\n",
       "      <td>94</td>\n",
       "      <td>26.0</td>\n",
       "      <td>...</td>\n",
       "      <td>97</td>\n",
       "      <td>0.09</td>\n",
       "      <td>25742</td>\n",
       "      <td>46.44</td>\n",
       "      <td>0.6</td>\n",
       "      <td>0.5</td>\n",
       "      <td>9.7</td>\n",
       "      <td>1</td>\n",
       "      <td>0</td>\n",
       "      <td>82.8</td>\n",
       "    </tr>\n",
       "    <tr>\n",
       "      <th>2</th>\n",
       "      <td>India</td>\n",
       "      <td>Asia</td>\n",
       "      <td>2007</td>\n",
       "      <td>51.5</td>\n",
       "      <td>67.9</td>\n",
       "      <td>201.0765</td>\n",
       "      <td>1.57</td>\n",
       "      <td>60</td>\n",
       "      <td>35</td>\n",
       "      <td>21.2</td>\n",
       "      <td>...</td>\n",
       "      <td>64</td>\n",
       "      <td>0.13</td>\n",
       "      <td>1076</td>\n",
       "      <td>1183.21</td>\n",
       "      <td>27.1</td>\n",
       "      <td>28.0</td>\n",
       "      <td>5.0</td>\n",
       "      <td>0</td>\n",
       "      <td>1</td>\n",
       "      <td>65.4</td>\n",
       "    </tr>\n",
       "    <tr>\n",
       "      <th>3</th>\n",
       "      <td>Guyana</td>\n",
       "      <td>South America</td>\n",
       "      <td>2006</td>\n",
       "      <td>32.8</td>\n",
       "      <td>40.5</td>\n",
       "      <td>222.1965</td>\n",
       "      <td>5.68</td>\n",
       "      <td>93</td>\n",
       "      <td>74</td>\n",
       "      <td>25.3</td>\n",
       "      <td>...</td>\n",
       "      <td>93</td>\n",
       "      <td>0.79</td>\n",
       "      <td>4146</td>\n",
       "      <td>0.75</td>\n",
       "      <td>5.7</td>\n",
       "      <td>5.5</td>\n",
       "      <td>7.9</td>\n",
       "      <td>0</td>\n",
       "      <td>1</td>\n",
       "      <td>67.0</td>\n",
       "    </tr>\n",
       "    <tr>\n",
       "      <th>4</th>\n",
       "      <td>Israel</td>\n",
       "      <td>Middle East</td>\n",
       "      <td>2012</td>\n",
       "      <td>3.4</td>\n",
       "      <td>4.3</td>\n",
       "      <td>57.9510</td>\n",
       "      <td>2.89</td>\n",
       "      <td>97</td>\n",
       "      <td>89</td>\n",
       "      <td>27.0</td>\n",
       "      <td>...</td>\n",
       "      <td>94</td>\n",
       "      <td>0.08</td>\n",
       "      <td>33995</td>\n",
       "      <td>7.91</td>\n",
       "      <td>1.2</td>\n",
       "      <td>1.1</td>\n",
       "      <td>12.8</td>\n",
       "      <td>1</td>\n",
       "      <td>0</td>\n",
       "      <td>81.7</td>\n",
       "    </tr>\n",
       "  </tbody>\n",
       "</table>\n",
       "<p>5 rows × 21 columns</p>\n",
       "</div>"
      ],
      "text/plain": [
       "   Country          Region  Year  Infant_deaths  Under_five_deaths  \\\n",
       "0  Turkiye     Middle East  2015           11.1               13.0   \n",
       "1    Spain  European Union  2015            2.7                3.3   \n",
       "2    India            Asia  2007           51.5               67.9   \n",
       "3   Guyana   South America  2006           32.8               40.5   \n",
       "4   Israel     Middle East  2012            3.4                4.3   \n",
       "\n",
       "   Adult_mortality  Alcohol_consumption  Hepatitis_B  Measles   BMI  ...  \\\n",
       "0         105.8240                 1.32           97       65  27.8  ...   \n",
       "1          57.9025                10.35           97       94  26.0  ...   \n",
       "2         201.0765                 1.57           60       35  21.2  ...   \n",
       "3         222.1965                 5.68           93       74  25.3  ...   \n",
       "4          57.9510                 2.89           97       89  27.0  ...   \n",
       "\n",
       "   Diphtheria  Incidents_HIV  GDP_per_capita  Population_mln  \\\n",
       "0          97           0.08           11006           78.53   \n",
       "1          97           0.09           25742           46.44   \n",
       "2          64           0.13            1076         1183.21   \n",
       "3          93           0.79            4146            0.75   \n",
       "4          94           0.08           33995            7.91   \n",
       "\n",
       "   Thinness_ten_nineteen_years  Thinness_five_nine_years  Schooling  \\\n",
       "0                          4.9                       4.8        7.8   \n",
       "1                          0.6                       0.5        9.7   \n",
       "2                         27.1                      28.0        5.0   \n",
       "3                          5.7                       5.5        7.9   \n",
       "4                          1.2                       1.1       12.8   \n",
       "\n",
       "   Economy_status_Developed  Economy_status_Developing  Life_expectancy  \n",
       "0                         0                          1             76.5  \n",
       "1                         1                          0             82.8  \n",
       "2                         0                          1             65.4  \n",
       "3                         0                          1             67.0  \n",
       "4                         1                          0             81.7  \n",
       "\n",
       "[5 rows x 21 columns]"
      ]
     },
     "execution_count": 6,
     "metadata": {},
     "output_type": "execute_result"
    }
   ],
   "source": [
    "df.head()"
   ]
  },
  {
   "cell_type": "markdown",
   "id": "313f092c-9ca9-4659-ac47-836ebccbd404",
   "metadata": {},
   "source": [
    "# Talal's Notebook:\n",
    "# [FA22-BDS-041]"
   ]
  },
  {
   "cell_type": "markdown",
   "id": "48c15611-05e6-4dd6-acf0-e0626dea2aa8",
   "metadata": {},
   "source": [
    "**Q-1: Show the average expected life over the past years of all countries?**"
   ]
  },
  {
   "cell_type": "code",
   "execution_count": 6,
   "id": "a56a0375-d674-49be-bb34-96288b71efaa",
   "metadata": {},
   "outputs": [
    {
     "data": {
      "text/plain": [
       "Country\n",
       "Afghanistan            59.65625\n",
       "Albania                75.95000\n",
       "Algeria                73.78750\n",
       "Angola                 52.82500\n",
       "Antigua and Barbuda    75.35000\n",
       "                         ...   \n",
       "Venezuela, RB          72.79375\n",
       "Vietnam                74.33125\n",
       "Yemen, Rep.            64.16250\n",
       "Zambia                 52.33125\n",
       "Zimbabwe               48.66250\n",
       "Name: Life_expectancy, Length: 179, dtype: float64"
      ]
     },
     "execution_count": 6,
     "metadata": {},
     "output_type": "execute_result"
    }
   ],
   "source": [
    "df.groupby(['Country'])['Life_expectancy'].mean()"
   ]
  },
  {
   "cell_type": "markdown",
   "id": "5ae55908-feaa-4d55-979e-d05463612c77",
   "metadata": {},
   "source": [
    "**Q-2: Find the country with the highest average age over the past few years and the country with the lowest as well?**"
   ]
  },
  {
   "cell_type": "code",
   "execution_count": 7,
   "id": "2f2d4414-a336-4045-aa2e-4765bf46cfea",
   "metadata": {},
   "outputs": [],
   "source": [
    "mean_life_expectancy = df.groupby(['Country'])['Life_expectancy'].mean()\n",
    "talal_highest_life_expectancy = mean_life_expectancy.sort_values(ascending = False)"
   ]
  },
  {
   "cell_type": "code",
   "execution_count": 8,
   "id": "b52fbbce-28a2-4e7a-a1c3-22f123124c00",
   "metadata": {},
   "outputs": [
    {
     "data": {
      "text/plain": [
       "Country\n",
       "Japan    82.45625\n",
       "Name: Life_expectancy, dtype: float64"
      ]
     },
     "execution_count": 8,
     "metadata": {},
     "output_type": "execute_result"
    }
   ],
   "source": [
    "talal_highest_life_expectancy[0:1]"
   ]
  },
  {
   "cell_type": "markdown",
   "id": "0cec99d1-19c2-4092-98cd-ee7cbe76eb8d",
   "metadata": {},
   "source": [
    "**Q-3: Find the country with the lowest average life expectancy?**"
   ]
  },
  {
   "cell_type": "code",
   "execution_count": 9,
   "id": "930122ee-31a5-4d6a-aba4-6593fcc54f95",
   "metadata": {},
   "outputs": [
    {
     "data": {
      "text/plain": [
       "Country\n",
       "Lesotho    45.60625\n",
       "Name: Life_expectancy, dtype: float64"
      ]
     },
     "execution_count": 9,
     "metadata": {},
     "output_type": "execute_result"
    }
   ],
   "source": [
    "talal_lowest_life_expectancy = mean_life_expectancy.sort_values(ascending = True)\n",
    "talal_lowest_life_expectancy[0:1]"
   ]
  },
  {
   "cell_type": "markdown",
   "id": "c719c146-e894-41d5-a285-5a8c6a5b8f48",
   "metadata": {},
   "source": [
    "**Q-4: Which regions have a comparatively higher expected life?**"
   ]
  },
  {
   "cell_type": "code",
   "execution_count": 10,
   "id": "8a8da428-4ca0-4d3e-a469-63d06a38ff0d",
   "metadata": {},
   "outputs": [
    {
     "data": {
      "text/plain": [
       "Region\n",
       "North America     77.841667\n",
       "European Union    77.715046\n",
       "Rest of Europe    74.525417\n",
       "Name: Life_expectancy, dtype: float64"
      ]
     },
     "execution_count": 10,
     "metadata": {},
     "output_type": "execute_result"
    }
   ],
   "source": [
    "regional = df.groupby(['Region'])['Life_expectancy'].mean()\n",
    "talal_regional_sorted = regional.sort_values(ascending = False)\n",
    "talal_regional_sorted[0:3]"
   ]
  },
  {
   "cell_type": "markdown",
   "id": "f704a046-cbfe-45d0-b70f-79ba4e58cdde",
   "metadata": {},
   "source": [
    "**Q-5: Does the economic status of a country play a role in the average life expectancy of the people?**"
   ]
  },
  {
   "cell_type": "code",
   "execution_count": 11,
   "id": "611d0962-4132-4518-b55a-5e84ba49931d",
   "metadata": {},
   "outputs": [
    {
     "data": {
      "text/plain": [
       "Economy_status_Developed\n",
       "0    66.341725\n",
       "1    78.505743\n",
       "Name: Life_expectancy, dtype: float64"
      ]
     },
     "execution_count": 11,
     "metadata": {},
     "output_type": "execute_result"
    }
   ],
   "source": [
    "df.groupby(['Economy_status_Developed'])['Life_expectancy'].mean()"
   ]
  },
  {
   "cell_type": "markdown",
   "id": "af5d2e0d-a926-4514-b01e-20dd478bbeb5",
   "metadata": {},
   "source": [
    "The Answer is 'Yes' as the countries which are economically developed i.e Economy status = 1 have higher life expectancy"
   ]
  },
  {
   "cell_type": "markdown",
   "id": "dd2908c4-059e-4c8a-92dd-7f40bf272c5c",
   "metadata": {},
   "source": [
    "**Q-6: Which region has the least polio cases and does that have any effect on the average life of people?**"
   ]
  },
  {
   "cell_type": "code",
   "execution_count": 12,
   "id": "52fe1e4b-8dae-42ec-8146-d347a6a520de",
   "metadata": {},
   "outputs": [
    {
     "data": {
      "text/html": [
       "<div>\n",
       "<style scoped>\n",
       "    .dataframe tbody tr th:only-of-type {\n",
       "        vertical-align: middle;\n",
       "    }\n",
       "\n",
       "    .dataframe tbody tr th {\n",
       "        vertical-align: top;\n",
       "    }\n",
       "\n",
       "    .dataframe thead th {\n",
       "        text-align: right;\n",
       "    }\n",
       "</style>\n",
       "<table border=\"1\" class=\"dataframe\">\n",
       "  <thead>\n",
       "    <tr style=\"text-align: right;\">\n",
       "      <th></th>\n",
       "      <th>Polio</th>\n",
       "      <th>Life_expectancy</th>\n",
       "    </tr>\n",
       "    <tr>\n",
       "      <th>Region</th>\n",
       "      <th></th>\n",
       "      <th></th>\n",
       "    </tr>\n",
       "  </thead>\n",
       "  <tbody>\n",
       "    <tr>\n",
       "      <th>Africa</th>\n",
       "      <td>76.205882</td>\n",
       "      <td>57.847304</td>\n",
       "    </tr>\n",
       "    <tr>\n",
       "      <th>Asia</th>\n",
       "      <td>88.194444</td>\n",
       "      <td>69.454861</td>\n",
       "    </tr>\n",
       "    <tr>\n",
       "      <th>Central America and Caribbean</th>\n",
       "      <td>91.049342</td>\n",
       "      <td>72.437500</td>\n",
       "    </tr>\n",
       "    <tr>\n",
       "      <th>European Union</th>\n",
       "      <td>95.530093</td>\n",
       "      <td>77.715046</td>\n",
       "    </tr>\n",
       "    <tr>\n",
       "      <th>Middle East</th>\n",
       "      <td>90.022321</td>\n",
       "      <td>73.975446</td>\n",
       "    </tr>\n",
       "    <tr>\n",
       "      <th>North America</th>\n",
       "      <td>92.854167</td>\n",
       "      <td>77.841667</td>\n",
       "    </tr>\n",
       "    <tr>\n",
       "      <th>Oceania</th>\n",
       "      <td>81.829545</td>\n",
       "      <td>69.517614</td>\n",
       "    </tr>\n",
       "    <tr>\n",
       "      <th>Rest of Europe</th>\n",
       "      <td>92.954167</td>\n",
       "      <td>74.525417</td>\n",
       "    </tr>\n",
       "    <tr>\n",
       "      <th>South America</th>\n",
       "      <td>89.427083</td>\n",
       "      <td>72.780729</td>\n",
       "    </tr>\n",
       "  </tbody>\n",
       "</table>\n",
       "</div>"
      ],
      "text/plain": [
       "                                   Polio  Life_expectancy\n",
       "Region                                                   \n",
       "Africa                         76.205882        57.847304\n",
       "Asia                           88.194444        69.454861\n",
       "Central America and Caribbean  91.049342        72.437500\n",
       "European Union                 95.530093        77.715046\n",
       "Middle East                    90.022321        73.975446\n",
       "North America                  92.854167        77.841667\n",
       "Oceania                        81.829545        69.517614\n",
       "Rest of Europe                 92.954167        74.525417\n",
       "South America                  89.427083        72.780729"
      ]
     },
     "execution_count": 12,
     "metadata": {},
     "output_type": "execute_result"
    }
   ],
   "source": [
    "talal_least_poliocases = df.groupby(['Region'])[['Polio', 'Life_expectancy']].mean()\n",
    "talal_least_poliocases"
   ]
  },
  {
   "cell_type": "markdown",
   "id": "4c40ccf9-86ea-4311-9106-136e46227da5",
   "metadata": {},
   "source": [
    "**Q-7: List the top 5 contries with the most stable economy?**"
   ]
  },
  {
   "cell_type": "code",
   "execution_count": 13,
   "id": "1fd5fe7c-6364-4e46-b92e-b0df5a6cf92c",
   "metadata": {},
   "outputs": [
    {
     "data": {
      "text/html": [
       "<div>\n",
       "<style scoped>\n",
       "    .dataframe tbody tr th:only-of-type {\n",
       "        vertical-align: middle;\n",
       "    }\n",
       "\n",
       "    .dataframe tbody tr th {\n",
       "        vertical-align: top;\n",
       "    }\n",
       "\n",
       "    .dataframe thead th {\n",
       "        text-align: right;\n",
       "    }\n",
       "</style>\n",
       "<table border=\"1\" class=\"dataframe\">\n",
       "  <thead>\n",
       "    <tr style=\"text-align: right;\">\n",
       "      <th></th>\n",
       "      <th>mean</th>\n",
       "      <th>std</th>\n",
       "    </tr>\n",
       "    <tr>\n",
       "      <th>Country</th>\n",
       "      <th></th>\n",
       "      <th></th>\n",
       "    </tr>\n",
       "  </thead>\n",
       "  <tbody>\n",
       "    <tr>\n",
       "      <th>United Arab Emirates</th>\n",
       "      <td>45530.8750</td>\n",
       "      <td>10797.108773</td>\n",
       "    </tr>\n",
       "    <tr>\n",
       "      <th>Singapore</th>\n",
       "      <td>44656.6250</td>\n",
       "      <td>7377.056006</td>\n",
       "    </tr>\n",
       "    <tr>\n",
       "      <th>Luxembourg</th>\n",
       "      <td>102972.6875</td>\n",
       "      <td>5524.839928</td>\n",
       "    </tr>\n",
       "    <tr>\n",
       "      <th>Ireland</th>\n",
       "      <td>47788.6875</td>\n",
       "      <td>4632.477159</td>\n",
       "    </tr>\n",
       "    <tr>\n",
       "      <th>Venezuela, RB</th>\n",
       "      <td>9294.8750</td>\n",
       "      <td>4614.676903</td>\n",
       "    </tr>\n",
       "    <tr>\n",
       "      <th>...</th>\n",
       "      <td>...</td>\n",
       "      <td>...</td>\n",
       "    </tr>\n",
       "    <tr>\n",
       "      <th>Comoros</th>\n",
       "      <td>1204.2500</td>\n",
       "      <td>30.727838</td>\n",
       "    </tr>\n",
       "    <tr>\n",
       "      <th>Niger</th>\n",
       "      <td>432.6875</td>\n",
       "      <td>28.198626</td>\n",
       "    </tr>\n",
       "    <tr>\n",
       "      <th>Madagascar</th>\n",
       "      <td>472.8750</td>\n",
       "      <td>20.619974</td>\n",
       "    </tr>\n",
       "    <tr>\n",
       "      <th>Guinea-Bissau</th>\n",
       "      <td>576.5000</td>\n",
       "      <td>18.439089</td>\n",
       "    </tr>\n",
       "    <tr>\n",
       "      <th>Burundi</th>\n",
       "      <td>309.1250</td>\n",
       "      <td>9.098535</td>\n",
       "    </tr>\n",
       "  </tbody>\n",
       "</table>\n",
       "<p>179 rows × 2 columns</p>\n",
       "</div>"
      ],
      "text/plain": [
       "                             mean           std\n",
       "Country                                        \n",
       "United Arab Emirates   45530.8750  10797.108773\n",
       "Singapore              44656.6250   7377.056006\n",
       "Luxembourg            102972.6875   5524.839928\n",
       "Ireland                47788.6875   4632.477159\n",
       "Venezuela, RB           9294.8750   4614.676903\n",
       "...                           ...           ...\n",
       "Comoros                 1204.2500     30.727838\n",
       "Niger                    432.6875     28.198626\n",
       "Madagascar               472.8750     20.619974\n",
       "Guinea-Bissau            576.5000     18.439089\n",
       "Burundi                  309.1250      9.098535\n",
       "\n",
       "[179 rows x 2 columns]"
      ]
     },
     "execution_count": 13,
     "metadata": {},
     "output_type": "execute_result"
    }
   ],
   "source": [
    "talal_stable_economies = df.groupby(['Country'])['GDP_per_capita'].agg(['mean', 'std'])\n",
    "talal_stable_economies.sort_values(['std'], ascending = False)"
   ]
  },
  {
   "cell_type": "markdown",
   "id": "121297f3-181b-4acf-8d23-b2205faf762b",
   "metadata": {},
   "source": [
    "**Q-8: Provide us with a yearly analysis on the life expectancy based on region?**"
   ]
  },
  {
   "cell_type": "code",
   "execution_count": 14,
   "id": "aa00d709-ccf4-4c87-a36f-a0e41e539aa4",
   "metadata": {},
   "outputs": [
    {
     "data": {
      "text/html": [
       "<div>\n",
       "<style scoped>\n",
       "    .dataframe tbody tr th:only-of-type {\n",
       "        vertical-align: middle;\n",
       "    }\n",
       "\n",
       "    .dataframe tbody tr th {\n",
       "        vertical-align: top;\n",
       "    }\n",
       "\n",
       "    .dataframe thead th {\n",
       "        text-align: right;\n",
       "    }\n",
       "</style>\n",
       "<table border=\"1\" class=\"dataframe\">\n",
       "  <thead>\n",
       "    <tr style=\"text-align: right;\">\n",
       "      <th></th>\n",
       "      <th>mean</th>\n",
       "      <th>median</th>\n",
       "      <th>std</th>\n",
       "      <th>max</th>\n",
       "      <th>min</th>\n",
       "    </tr>\n",
       "    <tr>\n",
       "      <th>Year</th>\n",
       "      <th></th>\n",
       "      <th></th>\n",
       "      <th></th>\n",
       "      <th></th>\n",
       "      <th></th>\n",
       "    </tr>\n",
       "  </thead>\n",
       "  <tbody>\n",
       "    <tr>\n",
       "      <th>2000</th>\n",
       "      <td>66.360335</td>\n",
       "      <td>69.7</td>\n",
       "      <td>10.179608</td>\n",
       "      <td>81.1</td>\n",
       "      <td>39.4</td>\n",
       "    </tr>\n",
       "    <tr>\n",
       "      <th>2001</th>\n",
       "      <td>66.650279</td>\n",
       "      <td>69.9</td>\n",
       "      <td>10.204413</td>\n",
       "      <td>81.4</td>\n",
       "      <td>40.4</td>\n",
       "    </tr>\n",
       "    <tr>\n",
       "      <th>2002</th>\n",
       "      <td>66.886592</td>\n",
       "      <td>70.2</td>\n",
       "      <td>10.148086</td>\n",
       "      <td>81.6</td>\n",
       "      <td>41.4</td>\n",
       "    </tr>\n",
       "    <tr>\n",
       "      <th>2003</th>\n",
       "      <td>67.170391</td>\n",
       "      <td>70.4</td>\n",
       "      <td>10.067227</td>\n",
       "      <td>81.8</td>\n",
       "      <td>42.4</td>\n",
       "    </tr>\n",
       "    <tr>\n",
       "      <th>2004</th>\n",
       "      <td>67.549721</td>\n",
       "      <td>70.9</td>\n",
       "      <td>10.022460</td>\n",
       "      <td>82.0</td>\n",
       "      <td>42.7</td>\n",
       "    </tr>\n",
       "    <tr>\n",
       "      <th>2005</th>\n",
       "      <td>67.856425</td>\n",
       "      <td>71.2</td>\n",
       "      <td>9.874027</td>\n",
       "      <td>81.9</td>\n",
       "      <td>42.5</td>\n",
       "    </tr>\n",
       "    <tr>\n",
       "      <th>2006</th>\n",
       "      <td>68.221788</td>\n",
       "      <td>71.0</td>\n",
       "      <td>9.704599</td>\n",
       "      <td>82.3</td>\n",
       "      <td>42.6</td>\n",
       "    </tr>\n",
       "    <tr>\n",
       "      <th>2007</th>\n",
       "      <td>68.588268</td>\n",
       "      <td>71.2</td>\n",
       "      <td>9.496417</td>\n",
       "      <td>82.5</td>\n",
       "      <td>42.9</td>\n",
       "    </tr>\n",
       "    <tr>\n",
       "      <th>2008</th>\n",
       "      <td>68.991061</td>\n",
       "      <td>71.6</td>\n",
       "      <td>9.281710</td>\n",
       "      <td>82.6</td>\n",
       "      <td>43.4</td>\n",
       "    </tr>\n",
       "    <tr>\n",
       "      <th>2009</th>\n",
       "      <td>69.388827</td>\n",
       "      <td>71.8</td>\n",
       "      <td>9.054361</td>\n",
       "      <td>82.9</td>\n",
       "      <td>44.1</td>\n",
       "    </tr>\n",
       "    <tr>\n",
       "      <th>2010</th>\n",
       "      <td>69.777095</td>\n",
       "      <td>72.0</td>\n",
       "      <td>8.830621</td>\n",
       "      <td>82.8</td>\n",
       "      <td>45.1</td>\n",
       "    </tr>\n",
       "    <tr>\n",
       "      <th>2011</th>\n",
       "      <td>70.177095</td>\n",
       "      <td>72.2</td>\n",
       "      <td>8.644436</td>\n",
       "      <td>82.7</td>\n",
       "      <td>46.2</td>\n",
       "    </tr>\n",
       "    <tr>\n",
       "      <th>2012</th>\n",
       "      <td>70.521788</td>\n",
       "      <td>72.4</td>\n",
       "      <td>8.402523</td>\n",
       "      <td>83.1</td>\n",
       "      <td>47.4</td>\n",
       "    </tr>\n",
       "    <tr>\n",
       "      <th>2013</th>\n",
       "      <td>70.877095</td>\n",
       "      <td>72.6</td>\n",
       "      <td>8.214093</td>\n",
       "      <td>83.3</td>\n",
       "      <td>48.7</td>\n",
       "    </tr>\n",
       "    <tr>\n",
       "      <th>2014</th>\n",
       "      <td>71.216760</td>\n",
       "      <td>72.8</td>\n",
       "      <td>8.055318</td>\n",
       "      <td>83.6</td>\n",
       "      <td>49.9</td>\n",
       "    </tr>\n",
       "    <tr>\n",
       "      <th>2015</th>\n",
       "      <td>71.463687</td>\n",
       "      <td>73.0</td>\n",
       "      <td>7.832270</td>\n",
       "      <td>83.8</td>\n",
       "      <td>50.9</td>\n",
       "    </tr>\n",
       "  </tbody>\n",
       "</table>\n",
       "</div>"
      ],
      "text/plain": [
       "           mean  median        std   max   min\n",
       "Year                                          \n",
       "2000  66.360335    69.7  10.179608  81.1  39.4\n",
       "2001  66.650279    69.9  10.204413  81.4  40.4\n",
       "2002  66.886592    70.2  10.148086  81.6  41.4\n",
       "2003  67.170391    70.4  10.067227  81.8  42.4\n",
       "2004  67.549721    70.9  10.022460  82.0  42.7\n",
       "2005  67.856425    71.2   9.874027  81.9  42.5\n",
       "2006  68.221788    71.0   9.704599  82.3  42.6\n",
       "2007  68.588268    71.2   9.496417  82.5  42.9\n",
       "2008  68.991061    71.6   9.281710  82.6  43.4\n",
       "2009  69.388827    71.8   9.054361  82.9  44.1\n",
       "2010  69.777095    72.0   8.830621  82.8  45.1\n",
       "2011  70.177095    72.2   8.644436  82.7  46.2\n",
       "2012  70.521788    72.4   8.402523  83.1  47.4\n",
       "2013  70.877095    72.6   8.214093  83.3  48.7\n",
       "2014  71.216760    72.8   8.055318  83.6  49.9\n",
       "2015  71.463687    73.0   7.832270  83.8  50.9"
      ]
     },
     "execution_count": 14,
     "metadata": {},
     "output_type": "execute_result"
    }
   ],
   "source": [
    "talal_yearly_analysis = df.groupby(['Year'])['Life_expectancy'].agg(['mean', 'median', 'std', 'max', 'min'])\n",
    "talal_yearly_analysis"
   ]
  },
  {
   "cell_type": "markdown",
   "id": "f4f58917-cc5d-416c-8058-25f8ebb6627d",
   "metadata": {},
   "source": [
    "The increase in the mean over the years may indicate that the with the development in field of medical the average life expectancy was increased"
   ]
  },
  {
   "cell_type": "markdown",
   "id": "0e84862a-7f18-4aea-910f-9b690e32fc16",
   "metadata": {},
   "source": [
    "**Q-9: Determine wheather the Alcohol Consumption of coutries play a part in their average life expectancy or not?**"
   ]
  },
  {
   "cell_type": "markdown",
   "id": "3ab57257-6c37-4984-8399-12d258dbbd07",
   "metadata": {},
   "source": [
    "Corelation Coeffiecent:"
   ]
  },
  {
   "cell_type": "code",
   "execution_count": 15,
   "id": "3a26958c-cadb-491b-b54a-0699ccc1cf7c",
   "metadata": {},
   "outputs": [
    {
     "name": "stdout",
     "output_type": "stream",
     "text": [
      "0.3991591075791727\n",
      "The correlation coefficient of 0.399 suggests a moderate positive relationship between alcohol consumption and life expectancy\n"
     ]
    }
   ],
   "source": [
    "talal_correlation = df['Alcohol_consumption'].corr(df['Life_expectancy'])\n",
    "print(talal_correlation)\n",
    "print(\"The correlation coefficient of 0.399 suggests a moderate positive relationship between alcohol consumption and life expectancy\")"
   ]
  },
  {
   "cell_type": "markdown",
   "id": "f484537c-8190-43f4-bb5b-0fa3701c4a4a",
   "metadata": {},
   "source": [
    "**Q-10: Determine wheather a being polio free or not plays a part in life expectancy?**"
   ]
  },
  {
   "cell_type": "code",
   "execution_count": 16,
   "id": "9c7d0184-5883-4b57-b9c9-740af8bb8dc8",
   "metadata": {},
   "outputs": [
    {
     "name": "stdout",
     "output_type": "stream",
     "text": [
      "0.6412174553454272\n"
     ]
    }
   ],
   "source": [
    "talal_polio_relation = df.groupby(['Country'])\n",
    "talal_polio_relation = df['Life_expectancy'].corr(df['Polio'])\n",
    "print(talal_polio_relation)"
   ]
  },
  {
   "cell_type": "markdown",
   "id": "616df674-be8a-4163-acd3-2a579f87e23e",
   "metadata": {},
   "source": [
    "**Q-11: Which countries have most sustainable population growth over the years?**"
   ]
  },
  {
   "cell_type": "code",
   "execution_count": 17,
   "id": "ad907f2d-e0d5-43d1-8554-c8601573ab58",
   "metadata": {},
   "outputs": [
    {
     "data": {
      "text/plain": [
       "Country\n",
       "St. Vincent and the Grenadines    0.000000\n",
       "Tonga                             0.000000\n",
       "Micronesia, Fed. Sts.             0.005000\n",
       "Grenada                           0.005123\n",
       "Seychelles                        0.005123\n",
       "Name: Population_mln, dtype: float64"
      ]
     },
     "execution_count": 17,
     "metadata": {},
     "output_type": "execute_result"
    }
   ],
   "source": [
    "talal_sustainable_population = df.groupby(['Country'])['Population_mln'].std()\n",
    "talal_sustainable_population.sort_values(ascending = True)[0:5]"
   ]
  },
  {
   "cell_type": "markdown",
   "id": "a2986eca-0800-4abf-b63f-1813c7fd3d3d",
   "metadata": {},
   "source": [
    "**Q-12: Does the factor that the country is economically developed or not play a role in Polio cases in that country?**"
   ]
  },
  {
   "cell_type": "code",
   "execution_count": 18,
   "id": "611ed9be-5ccb-4215-accb-27df25b8059d",
   "metadata": {},
   "outputs": [
    {
     "data": {
      "text/plain": [
       "Economy_status_Developed\n",
       "0    84.319542\n",
       "1    94.866554\n",
       "Name: Polio, dtype: float64"
      ]
     },
     "execution_count": 18,
     "metadata": {},
     "output_type": "execute_result"
    }
   ],
   "source": [
    "df.groupby(['Economy_status_Developed'])['Polio'].mean()"
   ]
  },
  {
   "cell_type": "markdown",
   "id": "e1822279-01e3-46c9-8d0a-0d013d141de0",
   "metadata": {},
   "source": [
    "The answer is 'Yes' as the countires which are economically developed have higher average percentage of being polio-free."
   ]
  },
  {
   "cell_type": "markdown",
   "id": "66fff392-fffc-4938-92bb-8f4c49803170",
   "metadata": {},
   "source": [
    "**Q-13: Visually demonstrate the average life expectancy in different reigons?**"
   ]
  },
  {
   "cell_type": "code",
   "execution_count": 19,
   "id": "e1aa16be-5e51-4962-9303-f79a6ff5d0c2",
   "metadata": {},
   "outputs": [
    {
     "data": {
      "image/png": "[encoded data removed]",
      "text/plain": [
       "<Figure size 640x480 with 1 Axes>"
      ]
     },
     "metadata": {},
     "output_type": "display_data"
    }
   ],
   "source": [
    "talal_line_plot = df.groupby(['Region'])['Life_expectancy'].mean()\n",
    "custom_colors = [\"#ea5545\", \"#f46a9b\", \"#ef9b20\", \"#edbf33\", \"#ede15b\", \"#bdcf32\", \"#87bc45\", \"#27aeef\", \"#b33dc6\"]\n",
    "talal_line_plot.plot(kind='barh', x='Country', y='Life_expectancy', color=custom_colors)\n",
    "plt.xlabel('Expected Age')\n",
    "plt.ylabel('Region')\n",
    "plt.show()"
   ]
  },
  {
   "cell_type": "markdown",
   "id": "8abb20c0-0285-4819-bb7d-ffc292e1bc3c",
   "metadata": {},
   "source": [
    "**Q-14: Visually describe the decline in deaths of infants in Pakistan over the years?**"
   ]
  },
  {
   "cell_type": "code",
   "execution_count": 20,
   "id": "6e2113a6-a046-41fb-bfea-16debf51df1c",
   "metadata": {},
   "outputs": [
    {
     "data": {
      "image/png": "[encoded data removed]",
      "text/plain": [
       "<Figure size 640x480 with 1 Axes>"
      ]
     },
     "metadata": {},
     "output_type": "display_data"
    }
   ],
   "source": [
    "talal_pk_df = df[df['Country'] == 'Pakistan']\n",
    "talal_pk_df = talal_pk_df.groupby(['Year'])['Infant_deaths'].mean()\n",
    "talal_pk_df.plot(kind = 'line', x = 'Year', y = 'Infant_deaths', color = 'red')\n",
    "plt.xlabel('Years')\n",
    "plt.ylabel('Average Infant Deaths')\n",
    "plt.title('Infant Death Rate in Pakistan from 2000-2016')\n",
    "plt.show()"
   ]
  },
  {
   "cell_type": "markdown",
   "id": "e78a177f-aa27-4f72-8f10-baaa44a3e939",
   "metadata": {},
   "source": [
    "**Q-15: Compare the infant death rate across different regions?**"
   ]
  },
  {
   "cell_type": "code",
   "execution_count": 21,
   "id": "5991c9a7-5564-4b1e-9458-2138bde50d0e",
   "metadata": {},
   "outputs": [
    {
     "data": {
      "image/png": "[encoded data removed]",
      "text/plain": [
       "<Figure size 640x480 with 1 Axes>"
      ]
     },
     "metadata": {},
     "output_type": "display_data"
    }
   ],
   "source": [
    "talal_region_df = df.groupby(['Region'])['Infant_deaths'].mean()\n",
    "colors = [\"#b30000\", \"#7c1158\", \"#4421af\", \"#1a53ff\", \"#0d88e6\", \"#00b7c7\", \"#5ad45a\", \"#8be04e\", \"#ebdc78\"]\n",
    "talal_region_df.plot(kind = 'bar', color = colors)\n",
    "plt.xlabel('Regions')\n",
    "plt.ylabel('Average Infant Deaths')\n",
    "plt.title('Average Rate of Deaths in Infants Across Different Regions from 2000 - 2015')\n",
    "plt.show()"
   ]
  },
  {
   "cell_type": "markdown",
   "id": "25eb0826-5ac6-46cf-8b87-fe8a151692e0",
   "metadata": {},
   "source": [
    "**Q-16: Show the global contribution of GDP with respect to regions?**"
   ]
  },
  {
   "cell_type": "code",
   "execution_count": 22,
   "id": "7b944c4c-b588-4194-a4a3-8dafb4c78a73",
   "metadata": {},
   "outputs": [
    {
     "data": {
      "image/png": "[encoded data removed]",
      "text/plain": [
       "<Figure size 800x600 with 1 Axes>"
      ]
     },
     "metadata": {},
     "output_type": "display_data"
    }
   ],
   "source": [
    "talal_gdp_df = df.groupby(['Region'])['GDP_per_capita'].sum()\n",
    "plt.figure(figsize=(8, 6))\n",
    "colors = [\"#fd7f6f\", \"#7eb0d5\", \"#b2e061\", \"#bd7ebe\", \"#ffb55a\", \"#ffee65\", \"#beb9db\", \"#fdcce5\", \"#8bd3c7\"]\n",
    "plt.pie(talal_gdp_df, labels=talal_gdp_df.index, autopct='%1.1f%%', colors=colors, startangle=140)\n",
    "plt.title('GDP Distribution by Region')\n",
    "plt.show()"
   ]
  },
  {
   "cell_type": "markdown",
   "id": "ef4804c8-d6e0-4d13-8e20-1f9492ade6e0",
   "metadata": {},
   "source": [
    "**Q-17: Does the fact that the country is economically developed or not play a role in deaths under the age of five?**"
   ]
  },
  {
   "cell_type": "code",
   "execution_count": 23,
   "id": "582b77e3-d94a-433c-8b02-30277cee9645",
   "metadata": {},
   "outputs": [
    {
     "data": {
      "text/plain": [
       "Economy_status_Developed\n",
       "0    52.654269\n",
       "1     5.649831\n",
       "Name: Under_five_deaths, dtype: float64"
      ]
     },
     "execution_count": 23,
     "metadata": {},
     "output_type": "execute_result"
    }
   ],
   "source": [
    "df.groupby(['Economy_status_Developed'])['Under_five_deaths'].mean()"
   ]
  },
  {
   "cell_type": "markdown",
   "id": "cbbccb2a-0fad-49a2-95c7-9f9ec4df0015",
   "metadata": {},
   "source": [
    "The answer according to data is a big 'Yes' as the countries that are economically developed have significantly less number of deaths under the age of five which may be translated to availability of better medical services in developed countries."
   ]
  },
  {
   "cell_type": "markdown",
   "id": "02e251a6-2c32-4da7-a642-7b825ec7c0d5",
   "metadata": {},
   "source": [
    "**Q-18: Does a better BMI mirrors a longer expected life?**"
   ]
  },
  {
   "cell_type": "code",
   "execution_count": 24,
   "id": "4b60f628-ce12-48f2-b0d3-6da14b97f5a8",
   "metadata": {},
   "outputs": [
    {
     "name": "stdout",
     "output_type": "stream",
     "text": [
      "0.5944032307289089\n"
     ]
    }
   ],
   "source": [
    "bmi_df = df.groupby(['Country'])[['BMI', 'Life_expectancy']].mean()\n",
    "corr = bmi_df['BMI'].corr(bmi_df['Life_expectancy'])\n",
    "print(corr)"
   ]
  },
  {
   "cell_type": "markdown",
   "id": "b93168b4-6b21-4c17-b587-4d3c18b3d31d",
   "metadata": {},
   "source": [
    "This value indicates that BMI has a moderately positive relation with the life expectancy. Better the BMI vales, better is the life expectancy and vice versa."
   ]
  },
  {
   "cell_type": "code",
   "execution_count": null,
   "id": "41fa88aa-c9ce-4849-b826-0059107837de",
   "metadata": {},
   "outputs": [],
   "source": []
  },
  {
   "cell_type": "code",
   "execution_count": null,
   "id": "e80806f6-3b17-455c-9962-ab77e6e99ffc",
   "metadata": {},
   "outputs": [],
   "source": []
  },
  {
   "cell_type": "markdown",
   "id": "944a38a5-2e00-455a-86cf-b84270e8be64",
   "metadata": {},
   "source": [
    "# Abdullah Rizwan's Notebook:\n",
    "# [FA22-BDS-003]"
   ]
  },
  {
   "cell_type": "code",
   "execution_count": 24,
   "id": "e6a801a9-1646-4f82-aa3a-28a884b62532",
   "metadata": {},
   "outputs": [
    {
     "data": {
      "text/html": [
       "<div>\n",
       "<style scoped>\n",
       "    .dataframe tbody tr th:only-of-type {\n",
       "        vertical-align: middle;\n",
       "    }\n",
       "\n",
       "    .dataframe tbody tr th {\n",
       "        vertical-align: top;\n",
       "    }\n",
       "\n",
       "    .dataframe thead th {\n",
       "        text-align: right;\n",
       "    }\n",
       "</style>\n",
       "<table border=\"1\" class=\"dataframe\">\n",
       "  <thead>\n",
       "    <tr style=\"text-align: right;\">\n",
       "      <th></th>\n",
       "      <th>Country</th>\n",
       "      <th>Region</th>\n",
       "      <th>Year</th>\n",
       "      <th>Infant_deaths</th>\n",
       "      <th>Under_five_deaths</th>\n",
       "      <th>Adult_mortality</th>\n",
       "      <th>Alcohol_consumption</th>\n",
       "      <th>Hepatitis_B</th>\n",
       "      <th>Measles</th>\n",
       "      <th>BMI</th>\n",
       "      <th>...</th>\n",
       "      <th>Diphtheria</th>\n",
       "      <th>Incidents_HIV</th>\n",
       "      <th>GDP_per_capita</th>\n",
       "      <th>Population_mln</th>\n",
       "      <th>Thinness_ten_nineteen_years</th>\n",
       "      <th>Thinness_five_nine_years</th>\n",
       "      <th>Schooling</th>\n",
       "      <th>Economy_status_Developed</th>\n",
       "      <th>Economy_status_Developing</th>\n",
       "      <th>Life_expectancy</th>\n",
       "    </tr>\n",
       "  </thead>\n",
       "  <tbody>\n",
       "    <tr>\n",
       "      <th>0</th>\n",
       "      <td>Turkiye</td>\n",
       "      <td>Middle East</td>\n",
       "      <td>2015</td>\n",
       "      <td>11.1</td>\n",
       "      <td>13.0</td>\n",
       "      <td>105.8240</td>\n",
       "      <td>1.320</td>\n",
       "      <td>97</td>\n",
       "      <td>65</td>\n",
       "      <td>27.8</td>\n",
       "      <td>...</td>\n",
       "      <td>97</td>\n",
       "      <td>0.08</td>\n",
       "      <td>11006</td>\n",
       "      <td>78.53</td>\n",
       "      <td>4.9</td>\n",
       "      <td>4.8</td>\n",
       "      <td>7.8</td>\n",
       "      <td>0</td>\n",
       "      <td>1</td>\n",
       "      <td>76.5</td>\n",
       "    </tr>\n",
       "    <tr>\n",
       "      <th>1</th>\n",
       "      <td>Spain</td>\n",
       "      <td>European Union</td>\n",
       "      <td>2015</td>\n",
       "      <td>2.7</td>\n",
       "      <td>3.3</td>\n",
       "      <td>57.9025</td>\n",
       "      <td>10.350</td>\n",
       "      <td>97</td>\n",
       "      <td>94</td>\n",
       "      <td>26.0</td>\n",
       "      <td>...</td>\n",
       "      <td>97</td>\n",
       "      <td>0.09</td>\n",
       "      <td>25742</td>\n",
       "      <td>46.44</td>\n",
       "      <td>0.6</td>\n",
       "      <td>0.5</td>\n",
       "      <td>9.7</td>\n",
       "      <td>1</td>\n",
       "      <td>0</td>\n",
       "      <td>82.8</td>\n",
       "    </tr>\n",
       "    <tr>\n",
       "      <th>2</th>\n",
       "      <td>India</td>\n",
       "      <td>Asia</td>\n",
       "      <td>2007</td>\n",
       "      <td>51.5</td>\n",
       "      <td>67.9</td>\n",
       "      <td>201.0765</td>\n",
       "      <td>1.570</td>\n",
       "      <td>60</td>\n",
       "      <td>35</td>\n",
       "      <td>21.2</td>\n",
       "      <td>...</td>\n",
       "      <td>64</td>\n",
       "      <td>0.13</td>\n",
       "      <td>1076</td>\n",
       "      <td>1183.21</td>\n",
       "      <td>27.1</td>\n",
       "      <td>28.0</td>\n",
       "      <td>5.0</td>\n",
       "      <td>0</td>\n",
       "      <td>1</td>\n",
       "      <td>65.4</td>\n",
       "    </tr>\n",
       "    <tr>\n",
       "      <th>3</th>\n",
       "      <td>Guyana</td>\n",
       "      <td>South America</td>\n",
       "      <td>2006</td>\n",
       "      <td>32.8</td>\n",
       "      <td>40.5</td>\n",
       "      <td>222.1965</td>\n",
       "      <td>5.680</td>\n",
       "      <td>93</td>\n",
       "      <td>74</td>\n",
       "      <td>25.3</td>\n",
       "      <td>...</td>\n",
       "      <td>93</td>\n",
       "      <td>0.79</td>\n",
       "      <td>4146</td>\n",
       "      <td>0.75</td>\n",
       "      <td>5.7</td>\n",
       "      <td>5.5</td>\n",
       "      <td>7.9</td>\n",
       "      <td>0</td>\n",
       "      <td>1</td>\n",
       "      <td>67.0</td>\n",
       "    </tr>\n",
       "    <tr>\n",
       "      <th>4</th>\n",
       "      <td>Israel</td>\n",
       "      <td>Middle East</td>\n",
       "      <td>2012</td>\n",
       "      <td>3.4</td>\n",
       "      <td>4.3</td>\n",
       "      <td>57.9510</td>\n",
       "      <td>2.890</td>\n",
       "      <td>97</td>\n",
       "      <td>89</td>\n",
       "      <td>27.0</td>\n",
       "      <td>...</td>\n",
       "      <td>94</td>\n",
       "      <td>0.08</td>\n",
       "      <td>33995</td>\n",
       "      <td>7.91</td>\n",
       "      <td>1.2</td>\n",
       "      <td>1.1</td>\n",
       "      <td>12.8</td>\n",
       "      <td>1</td>\n",
       "      <td>0</td>\n",
       "      <td>81.7</td>\n",
       "    </tr>\n",
       "    <tr>\n",
       "      <th>...</th>\n",
       "      <td>...</td>\n",
       "      <td>...</td>\n",
       "      <td>...</td>\n",
       "      <td>...</td>\n",
       "      <td>...</td>\n",
       "      <td>...</td>\n",
       "      <td>...</td>\n",
       "      <td>...</td>\n",
       "      <td>...</td>\n",
       "      <td>...</td>\n",
       "      <td>...</td>\n",
       "      <td>...</td>\n",
       "      <td>...</td>\n",
       "      <td>...</td>\n",
       "      <td>...</td>\n",
       "      <td>...</td>\n",
       "      <td>...</td>\n",
       "      <td>...</td>\n",
       "      <td>...</td>\n",
       "      <td>...</td>\n",
       "      <td>...</td>\n",
       "    </tr>\n",
       "    <tr>\n",
       "      <th>2859</th>\n",
       "      <td>Niger</td>\n",
       "      <td>Africa</td>\n",
       "      <td>2000</td>\n",
       "      <td>97.0</td>\n",
       "      <td>224.9</td>\n",
       "      <td>291.8240</td>\n",
       "      <td>0.092</td>\n",
       "      <td>72</td>\n",
       "      <td>64</td>\n",
       "      <td>20.8</td>\n",
       "      <td>...</td>\n",
       "      <td>34</td>\n",
       "      <td>0.49</td>\n",
       "      <td>399</td>\n",
       "      <td>11.33</td>\n",
       "      <td>12.8</td>\n",
       "      <td>12.9</td>\n",
       "      <td>1.1</td>\n",
       "      <td>0</td>\n",
       "      <td>1</td>\n",
       "      <td>49.9</td>\n",
       "    </tr>\n",
       "    <tr>\n",
       "      <th>2860</th>\n",
       "      <td>Mongolia</td>\n",
       "      <td>Asia</td>\n",
       "      <td>2009</td>\n",
       "      <td>23.9</td>\n",
       "      <td>28.6</td>\n",
       "      <td>235.2330</td>\n",
       "      <td>6.560</td>\n",
       "      <td>97</td>\n",
       "      <td>97</td>\n",
       "      <td>25.3</td>\n",
       "      <td>...</td>\n",
       "      <td>95</td>\n",
       "      <td>0.02</td>\n",
       "      <td>2515</td>\n",
       "      <td>2.67</td>\n",
       "      <td>2.2</td>\n",
       "      <td>2.3</td>\n",
       "      <td>9.1</td>\n",
       "      <td>0</td>\n",
       "      <td>1</td>\n",
       "      <td>66.9</td>\n",
       "    </tr>\n",
       "    <tr>\n",
       "      <th>2861</th>\n",
       "      <td>Sri Lanka</td>\n",
       "      <td>Asia</td>\n",
       "      <td>2004</td>\n",
       "      <td>17.7</td>\n",
       "      <td>28.9</td>\n",
       "      <td>134.8950</td>\n",
       "      <td>1.560</td>\n",
       "      <td>62</td>\n",
       "      <td>95</td>\n",
       "      <td>21.9</td>\n",
       "      <td>...</td>\n",
       "      <td>97</td>\n",
       "      <td>0.02</td>\n",
       "      <td>2130</td>\n",
       "      <td>19.39</td>\n",
       "      <td>15.4</td>\n",
       "      <td>15.5</td>\n",
       "      <td>10.3</td>\n",
       "      <td>0</td>\n",
       "      <td>1</td>\n",
       "      <td>74.3</td>\n",
       "    </tr>\n",
       "    <tr>\n",
       "      <th>2862</th>\n",
       "      <td>Lithuania</td>\n",
       "      <td>European Union</td>\n",
       "      <td>2002</td>\n",
       "      <td>7.9</td>\n",
       "      <td>9.9</td>\n",
       "      <td>204.0120</td>\n",
       "      <td>11.000</td>\n",
       "      <td>94</td>\n",
       "      <td>95</td>\n",
       "      <td>26.1</td>\n",
       "      <td>...</td>\n",
       "      <td>95</td>\n",
       "      <td>0.05</td>\n",
       "      <td>7424</td>\n",
       "      <td>3.44</td>\n",
       "      <td>3.3</td>\n",
       "      <td>3.3</td>\n",
       "      <td>11.1</td>\n",
       "      <td>1</td>\n",
       "      <td>0</td>\n",
       "      <td>71.8</td>\n",
       "    </tr>\n",
       "    <tr>\n",
       "      <th>2863</th>\n",
       "      <td>Iceland</td>\n",
       "      <td>Rest of Europe</td>\n",
       "      <td>2011</td>\n",
       "      <td>2.1</td>\n",
       "      <td>2.6</td>\n",
       "      <td>50.5745</td>\n",
       "      <td>6.840</td>\n",
       "      <td>88</td>\n",
       "      <td>90</td>\n",
       "      <td>26.1</td>\n",
       "      <td>...</td>\n",
       "      <td>95</td>\n",
       "      <td>0.05</td>\n",
       "      <td>48934</td>\n",
       "      <td>0.32</td>\n",
       "      <td>0.9</td>\n",
       "      <td>0.9</td>\n",
       "      <td>11.0</td>\n",
       "      <td>1</td>\n",
       "      <td>0</td>\n",
       "      <td>82.4</td>\n",
       "    </tr>\n",
       "  </tbody>\n",
       "</table>\n",
       "<p>2864 rows × 21 columns</p>\n",
       "</div>"
      ],
      "text/plain": [
       "        Country          Region  Year  Infant_deaths  Under_five_deaths  \\\n",
       "0       Turkiye     Middle East  2015           11.1               13.0   \n",
       "1         Spain  European Union  2015            2.7                3.3   \n",
       "2         India            Asia  2007           51.5               67.9   \n",
       "3        Guyana   South America  2006           32.8               40.5   \n",
       "4        Israel     Middle East  2012            3.4                4.3   \n",
       "...         ...             ...   ...            ...                ...   \n",
       "2859      Niger          Africa  2000           97.0              224.9   \n",
       "2860   Mongolia            Asia  2009           23.9               28.6   \n",
       "2861  Sri Lanka            Asia  2004           17.7               28.9   \n",
       "2862  Lithuania  European Union  2002            7.9                9.9   \n",
       "2863    Iceland  Rest of Europe  2011            2.1                2.6   \n",
       "\n",
       "      Adult_mortality  Alcohol_consumption  Hepatitis_B  Measles   BMI  ...  \\\n",
       "0            105.8240                1.320           97       65  27.8  ...   \n",
       "1             57.9025               10.350           97       94  26.0  ...   \n",
       "2            201.0765                1.570           60       35  21.2  ...   \n",
       "3            222.1965                5.680           93       74  25.3  ...   \n",
       "4             57.9510                2.890           97       89  27.0  ...   \n",
       "...               ...                  ...          ...      ...   ...  ...   \n",
       "2859         291.8240                0.092           72       64  20.8  ...   \n",
       "2860         235.2330                6.560           97       97  25.3  ...   \n",
       "2861         134.8950                1.560           62       95  21.9  ...   \n",
       "2862         204.0120               11.000           94       95  26.1  ...   \n",
       "2863          50.5745                6.840           88       90  26.1  ...   \n",
       "\n",
       "      Diphtheria  Incidents_HIV  GDP_per_capita  Population_mln  \\\n",
       "0             97           0.08           11006           78.53   \n",
       "1             97           0.09           25742           46.44   \n",
       "2             64           0.13            1076         1183.21   \n",
       "3             93           0.79            4146            0.75   \n",
       "4             94           0.08           33995            7.91   \n",
       "...          ...            ...             ...             ...   \n",
       "2859          34           0.49             399           11.33   \n",
       "2860          95           0.02            2515            2.67   \n",
       "2861          97           0.02            2130           19.39   \n",
       "2862          95           0.05            7424            3.44   \n",
       "2863          95           0.05           48934            0.32   \n",
       "\n",
       "      Thinness_ten_nineteen_years  Thinness_five_nine_years  Schooling  \\\n",
       "0                             4.9                       4.8        7.8   \n",
       "1                             0.6                       0.5        9.7   \n",
       "2                            27.1                      28.0        5.0   \n",
       "3                             5.7                       5.5        7.9   \n",
       "4                             1.2                       1.1       12.8   \n",
       "...                           ...                       ...        ...   \n",
       "2859                         12.8                      12.9        1.1   \n",
       "2860                          2.2                       2.3        9.1   \n",
       "2861                         15.4                      15.5       10.3   \n",
       "2862                          3.3                       3.3       11.1   \n",
       "2863                          0.9                       0.9       11.0   \n",
       "\n",
       "      Economy_status_Developed  Economy_status_Developing  Life_expectancy  \n",
       "0                            0                          1             76.5  \n",
       "1                            1                          0             82.8  \n",
       "2                            0                          1             65.4  \n",
       "3                            0                          1             67.0  \n",
       "4                            1                          0             81.7  \n",
       "...                        ...                        ...              ...  \n",
       "2859                         0                          1             49.9  \n",
       "2860                         0                          1             66.9  \n",
       "2861                         0                          1             74.3  \n",
       "2862                         1                          0             71.8  \n",
       "2863                         1                          0             82.4  \n",
       "\n",
       "[2864 rows x 21 columns]"
      ]
     },
     "execution_count": 24,
     "metadata": {},
     "output_type": "execute_result"
    }
   ],
   "source": [
    "data = pd.read_csv('Life-Expectancy-Data-Updated.csv')\n",
    "AR_DF = pd.DataFrame(data)\n",
    "AR_DF"
   ]
  },
  {
   "cell_type": "markdown",
   "id": "11c2ffb5-4939-47e5-9391-f357a591a8d5",
   "metadata": {},
   "source": [
    "**Q-19: Which region has the highest average GDP per capita?**"
   ]
  },
  {
   "cell_type": "code",
   "execution_count": 26,
   "id": "6a0210f9-19dd-4994-8f66-e30528acb8a3",
   "metadata": {},
   "outputs": [
    {
     "data": {
      "text/plain": [
       "Region\n",
       "North America    33783.854167\n",
       "Name: GDP_per_capita, dtype: float64"
      ]
     },
     "execution_count": 26,
     "metadata": {},
     "output_type": "execute_result"
    }
   ],
   "source": [
    "abdullah_GDP_per_capita = AR_DF.groupby(['Region'])['GDP_per_capita'].mean()\n",
    "abdullah_GDP_per_capita = abdullah_GDP_per_capita.sort_values(ascending = False)\n",
    "abdullah_GDP_per_capita[0:1]"
   ]
  },
  {
   "cell_type": "markdown",
   "id": "431cd8ba-2cb2-426d-877e-8a188cdbb781",
   "metadata": {},
   "source": [
    "**Q-20: Give me the worst 10 countries and their life expectancy based on whether the country is polio-free or not.**"
   ]
  },
  {
   "cell_type": "code",
   "execution_count": 27,
   "id": "a81d590b-3f7b-47da-b1e7-fbbce961f2c5",
   "metadata": {},
   "outputs": [
    {
     "data": {
      "text/html": [
       "<div>\n",
       "<style scoped>\n",
       "    .dataframe tbody tr th:only-of-type {\n",
       "        vertical-align: middle;\n",
       "    }\n",
       "\n",
       "    .dataframe tbody tr th {\n",
       "        vertical-align: top;\n",
       "    }\n",
       "\n",
       "    .dataframe thead th {\n",
       "        text-align: right;\n",
       "    }\n",
       "</style>\n",
       "<table border=\"1\" class=\"dataframe\">\n",
       "  <thead>\n",
       "    <tr style=\"text-align: right;\">\n",
       "      <th></th>\n",
       "      <th>Polio</th>\n",
       "      <th>Life_expectancy</th>\n",
       "    </tr>\n",
       "    <tr>\n",
       "      <th>Country</th>\n",
       "      <th></th>\n",
       "      <th></th>\n",
       "    </tr>\n",
       "  </thead>\n",
       "  <tbody>\n",
       "    <tr>\n",
       "      <th>Angola</th>\n",
       "      <td>35.7500</td>\n",
       "      <td>52.82500</td>\n",
       "    </tr>\n",
       "    <tr>\n",
       "      <th>Chad</th>\n",
       "      <td>38.5000</td>\n",
       "      <td>49.94375</td>\n",
       "    </tr>\n",
       "    <tr>\n",
       "      <th>Somalia</th>\n",
       "      <td>40.5000</td>\n",
       "      <td>53.24375</td>\n",
       "    </tr>\n",
       "    <tr>\n",
       "      <th>Central African Republic</th>\n",
       "      <td>44.0000</td>\n",
       "      <td>46.48125</td>\n",
       "    </tr>\n",
       "    <tr>\n",
       "      <th>Nigeria</th>\n",
       "      <td>45.6250</td>\n",
       "      <td>49.58125</td>\n",
       "    </tr>\n",
       "    <tr>\n",
       "      <th>Equatorial Guinea</th>\n",
       "      <td>51.7500</td>\n",
       "      <td>55.13125</td>\n",
       "    </tr>\n",
       "    <tr>\n",
       "      <th>Guinea</th>\n",
       "      <td>54.8125</td>\n",
       "      <td>55.10625</td>\n",
       "    </tr>\n",
       "    <tr>\n",
       "      <th>Afghanistan</th>\n",
       "      <td>55.3750</td>\n",
       "      <td>59.65625</td>\n",
       "    </tr>\n",
       "    <tr>\n",
       "      <th>Niger</th>\n",
       "      <td>57.4375</td>\n",
       "      <td>55.36875</td>\n",
       "    </tr>\n",
       "    <tr>\n",
       "      <th>Papua New Guinea</th>\n",
       "      <td>59.2500</td>\n",
       "      <td>61.29375</td>\n",
       "    </tr>\n",
       "  </tbody>\n",
       "</table>\n",
       "</div>"
      ],
      "text/plain": [
       "                            Polio  Life_expectancy\n",
       "Country                                           \n",
       "Angola                    35.7500         52.82500\n",
       "Chad                      38.5000         49.94375\n",
       "Somalia                   40.5000         53.24375\n",
       "Central African Republic  44.0000         46.48125\n",
       "Nigeria                   45.6250         49.58125\n",
       "Equatorial Guinea         51.7500         55.13125\n",
       "Guinea                    54.8125         55.10625\n",
       "Afghanistan               55.3750         59.65625\n",
       "Niger                     57.4375         55.36875\n",
       "Papua New Guinea          59.2500         61.29375"
      ]
     },
     "execution_count": 27,
     "metadata": {},
     "output_type": "execute_result"
    }
   ],
   "source": [
    "abdullah_polio_df = AR_DF.groupby(['Country'])[['Polio', 'Life_expectancy']].mean()\n",
    "abdullah_polio_df = abdullah_polio_df.sort_values(['Polio','Life_expectancy'],  ascending = [1, 1])\n",
    "abdullah_polio_df.iloc[0:10]"
   ]
  },
  {
   "cell_type": "markdown",
   "id": "5eafa3df-0f1b-4351-b269-427e62b27375",
   "metadata": {},
   "source": [
    "**Q-21: Which regions have the highest incidents of HIV and what are their average life expectancy?**"
   ]
  },
  {
   "cell_type": "code",
   "execution_count": 28,
   "id": "8040e13a-96a2-48c9-85b2-cf3fa32efb25",
   "metadata": {},
   "outputs": [
    {
     "data": {
      "text/plain": [
       "Region\n",
       "Africa                           2.702132\n",
       "Central America and Caribbean    0.419375\n",
       "South America                    0.298333\n",
       "Oceania                          0.155284\n",
       "Asia                             0.139884\n",
       "North America                    0.127917\n",
       "Rest of Europe                   0.107292\n",
       "Middle East                      0.089063\n",
       "European Union                   0.073912\n",
       "Name: Incidents_HIV, dtype: float64"
      ]
     },
     "execution_count": 28,
     "metadata": {},
     "output_type": "execute_result"
    }
   ],
   "source": [
    "abdullah_hiv_df = AR_DF.groupby(['Region'])['Incidents_HIV'].mean()\n",
    "abdullah_hiv_df.sort_values(ascending = False)"
   ]
  },
  {
   "cell_type": "markdown",
   "id": "c21620e1-1a21-4bed-90de-27462d9a21cb",
   "metadata": {},
   "source": [
    "**Q-22: Give me the top 10 countries and their life expectancy based on whether the country is polio-free or not.**"
   ]
  },
  {
   "cell_type": "code",
   "execution_count": 29,
   "id": "217c7e17-e917-44b8-b2f0-d79cf25c9610",
   "metadata": {},
   "outputs": [
    {
     "data": {
      "text/html": [
       "<div>\n",
       "<style scoped>\n",
       "    .dataframe tbody tr th:only-of-type {\n",
       "        vertical-align: middle;\n",
       "    }\n",
       "\n",
       "    .dataframe tbody tr th {\n",
       "        vertical-align: top;\n",
       "    }\n",
       "\n",
       "    .dataframe thead th {\n",
       "        text-align: right;\n",
       "    }\n",
       "</style>\n",
       "<table border=\"1\" class=\"dataframe\">\n",
       "  <thead>\n",
       "    <tr style=\"text-align: right;\">\n",
       "      <th></th>\n",
       "      <th>Polio</th>\n",
       "      <th>Life_expectancy</th>\n",
       "    </tr>\n",
       "    <tr>\n",
       "      <th>Country</th>\n",
       "      <th></th>\n",
       "      <th></th>\n",
       "    </tr>\n",
       "  </thead>\n",
       "  <tbody>\n",
       "    <tr>\n",
       "      <th>Hungary</th>\n",
       "      <td>98.9375</td>\n",
       "      <td>73.64375</td>\n",
       "    </tr>\n",
       "    <tr>\n",
       "      <th>Cuba</th>\n",
       "      <td>98.6875</td>\n",
       "      <td>77.89375</td>\n",
       "    </tr>\n",
       "    <tr>\n",
       "      <th>Uzbekistan</th>\n",
       "      <td>98.5625</td>\n",
       "      <td>69.03750</td>\n",
       "    </tr>\n",
       "    <tr>\n",
       "      <th>Oman</th>\n",
       "      <td>98.5000</td>\n",
       "      <td>74.80625</td>\n",
       "    </tr>\n",
       "    <tr>\n",
       "      <th>Seychelles</th>\n",
       "      <td>98.5000</td>\n",
       "      <td>72.83750</td>\n",
       "    </tr>\n",
       "    <tr>\n",
       "      <th>Slovak Republic</th>\n",
       "      <td>98.4375</td>\n",
       "      <td>74.78750</td>\n",
       "    </tr>\n",
       "    <tr>\n",
       "      <th>Sri Lanka</th>\n",
       "      <td>98.3750</td>\n",
       "      <td>74.68750</td>\n",
       "    </tr>\n",
       "    <tr>\n",
       "      <th>Thailand</th>\n",
       "      <td>98.3125</td>\n",
       "      <td>73.20000</td>\n",
       "    </tr>\n",
       "    <tr>\n",
       "      <th>Brazil</th>\n",
       "      <td>98.3125</td>\n",
       "      <td>72.69375</td>\n",
       "    </tr>\n",
       "    <tr>\n",
       "      <th>Sweden</th>\n",
       "      <td>98.2500</td>\n",
       "      <td>80.99375</td>\n",
       "    </tr>\n",
       "  </tbody>\n",
       "</table>\n",
       "</div>"
      ],
      "text/plain": [
       "                   Polio  Life_expectancy\n",
       "Country                                  \n",
       "Hungary          98.9375         73.64375\n",
       "Cuba             98.6875         77.89375\n",
       "Uzbekistan       98.5625         69.03750\n",
       "Oman             98.5000         74.80625\n",
       "Seychelles       98.5000         72.83750\n",
       "Slovak Republic  98.4375         74.78750\n",
       "Sri Lanka        98.3750         74.68750\n",
       "Thailand         98.3125         73.20000\n",
       "Brazil           98.3125         72.69375\n",
       "Sweden           98.2500         80.99375"
      ]
     },
     "execution_count": 29,
     "metadata": {},
     "output_type": "execute_result"
    }
   ],
   "source": [
    "abdullah_polio_df1 = abdullah_polio_df.sort_values(['Polio','Life_expectancy'],  ascending = [0, 0])\n",
    "abdullah_polio_df1.iloc[0:10]"
   ]
  },
  {
   "cell_type": "markdown",
   "id": "994be3b5-5f37-47db-b451-ebc97c345757",
   "metadata": {},
   "source": [
    "**Q-23: Is Life Expectancy dependent on Diphtheria?**"
   ]
  },
  {
   "cell_type": "code",
   "execution_count": 30,
   "id": "a55b1d44-994b-47e2-8454-ae2396b5c9a5",
   "metadata": {},
   "outputs": [
    {
     "data": {
      "text/plain": [
       "0.6275413923742558"
      ]
     },
     "execution_count": 30,
     "metadata": {},
     "output_type": "execute_result"
    }
   ],
   "source": [
    "abdullah_diphtheria = AR_DF['Life_expectancy'].corr(AR_DF['Diphtheria'])\n",
    "abdullah_diphtheria"
   ]
  },
  {
   "cell_type": "markdown",
   "id": "0501364f-670e-4b08-9192-99b78030f540",
   "metadata": {},
   "source": [
    "This correlation coefficient shows that Life Expectancy is strongly dependent on Diphtheria"
   ]
  },
  {
   "cell_type": "markdown",
   "id": "2b6b69da-9987-45b7-ad27-418e716ed30f",
   "metadata": {},
   "source": [
    "**Q-24: Is Life Expectancy dependent on Schooling?**"
   ]
  },
  {
   "cell_type": "code",
   "execution_count": 31,
   "id": "dd1dd82b-63f3-4c82-aaf7-5a506ce3c4d8",
   "metadata": {},
   "outputs": [
    {
     "data": {
      "text/plain": [
       "0.7324844688915007"
      ]
     },
     "execution_count": 31,
     "metadata": {},
     "output_type": "execute_result"
    }
   ],
   "source": [
    "abdullah_schooling = AR_DF['Schooling'].corr(AR_DF['Life_expectancy'])\n",
    "abdullah_schooling"
   ]
  },
  {
   "cell_type": "markdown",
   "id": "5b4ece86-6f72-4c03-af7d-0242726898b9",
   "metadata": {},
   "source": [
    "**Q-25: Is Life Expectancy dependent on Measles?**"
   ]
  },
  {
   "cell_type": "code",
   "execution_count": 32,
   "id": "c1e19732-9c0b-482d-947d-8e12541d568b",
   "metadata": {},
   "outputs": [
    {
     "data": {
      "text/plain": [
       "0.4900185894094421"
      ]
     },
     "execution_count": 32,
     "metadata": {},
     "output_type": "execute_result"
    }
   ],
   "source": [
    "abdullah_measles = AR_DF['Life_expectancy'].corr(AR_DF['Measles'])\n",
    "abdullah_measles"
   ]
  },
  {
   "cell_type": "markdown",
   "id": "e4a7bc5a-55bb-4996-bf82-b3b8d6b324c5",
   "metadata": {},
   "source": [
    "This shows a Strong Correlation between measles and liFe expectancy"
   ]
  },
  {
   "cell_type": "markdown",
   "id": "80817aa3-ff1c-4491-b6f6-3770263f619e",
   "metadata": {},
   "source": [
    "**Q-26: Is there a significant difference in measles incidents among countries with high vs. low GDP per capita?**"
   ]
  },
  {
   "cell_type": "code",
   "execution_count": 33,
   "id": "dacdfb62-cc7e-4a12-acc5-5e50a99119d5",
   "metadata": {},
   "outputs": [
    {
     "data": {
      "text/plain": [
       "0.3137237175006622"
      ]
     },
     "execution_count": 33,
     "metadata": {},
     "output_type": "execute_result"
    }
   ],
   "source": [
    "abdullah_gdp = AR_DF['GDP_per_capita'].corr(AR_DF['Measles'])\n",
    "abdullah_gdp"
   ]
  },
  {
   "cell_type": "markdown",
   "id": "6a481ecf-82b6-4728-ad59-7a6af4885d6c",
   "metadata": {},
   "source": [
    "**Q-27: Is there a correlation between life expectancy and population size?**"
   ]
  },
  {
   "cell_type": "code",
   "execution_count": 34,
   "id": "e6ea87da-d9db-4a62-8093-a13ab39021ff",
   "metadata": {},
   "outputs": [
    {
     "data": {
      "text/plain": [
       "0.026297879724181548"
      ]
     },
     "execution_count": 34,
     "metadata": {},
     "output_type": "execute_result"
    }
   ],
   "source": [
    "abdullah_pop = AR_DF['Life_expectancy'].corr(AR_DF['Population_mln'])\n",
    "abdullah_pop"
   ]
  },
  {
   "cell_type": "markdown",
   "id": "5cea519a-0289-4761-ad43-b59c58533118",
   "metadata": {},
   "source": [
    "This Shows that population size is not important in determining life expectancy"
   ]
  },
  {
   "cell_type": "markdown",
   "id": "bbb7d45f-9c17-4f06-a18b-4365d368d21b",
   "metadata": {},
   "source": [
    "**Q-28: Which country has the most average schooling years?**"
   ]
  },
  {
   "cell_type": "code",
   "execution_count": 35,
   "id": "cdac4e00-3be5-4c36-9010-6d8e53568970",
   "metadata": {},
   "outputs": [
    {
     "data": {
      "text/plain": [
       "Country\n",
       "Germany    13.26875\n",
       "Name: Schooling, dtype: float64"
      ]
     },
     "execution_count": 35,
     "metadata": {},
     "output_type": "execute_result"
    }
   ],
   "source": [
    "abdullah_literacy = AR_DF.groupby(['Country'])['Schooling'].mean()\n",
    "abdullah_literacy = abdullah_literacy.sort_values(ascending = False)\n",
    "abdullah_literacy[0:1]"
   ]
  },
  {
   "cell_type": "markdown",
   "id": "118bc281-f3d9-4e0e-8954-dba4ea5a568a",
   "metadata": {},
   "source": [
    "**Q-29: Are there noticeable differences in thinness among teenagers (ten to nineteen years) across regions?**"
   ]
  },
  {
   "cell_type": "code",
   "execution_count": 36,
   "id": "cde5f319-dcad-4366-95ee-b69c9e8bf1e0",
   "metadata": {},
   "outputs": [
    {
     "data": {
      "text/html": [
       "<div>\n",
       "<style scoped>\n",
       "    .dataframe tbody tr th:only-of-type {\n",
       "        vertical-align: middle;\n",
       "    }\n",
       "\n",
       "    .dataframe tbody tr th {\n",
       "        vertical-align: top;\n",
       "    }\n",
       "\n",
       "    .dataframe thead th {\n",
       "        text-align: right;\n",
       "    }\n",
       "</style>\n",
       "<table border=\"1\" class=\"dataframe\">\n",
       "  <thead>\n",
       "    <tr style=\"text-align: right;\">\n",
       "      <th></th>\n",
       "      <th>std</th>\n",
       "    </tr>\n",
       "    <tr>\n",
       "      <th>Region</th>\n",
       "      <th></th>\n",
       "    </tr>\n",
       "  </thead>\n",
       "  <tbody>\n",
       "    <tr>\n",
       "      <th>Africa</th>\n",
       "      <td>2.734183</td>\n",
       "    </tr>\n",
       "    <tr>\n",
       "      <th>Asia</th>\n",
       "      <td>7.162460</td>\n",
       "    </tr>\n",
       "    <tr>\n",
       "      <th>Central America and Caribbean</th>\n",
       "      <td>1.414813</td>\n",
       "    </tr>\n",
       "    <tr>\n",
       "      <th>European Union</th>\n",
       "      <td>0.758527</td>\n",
       "    </tr>\n",
       "    <tr>\n",
       "      <th>Middle East</th>\n",
       "      <td>2.779084</td>\n",
       "    </tr>\n",
       "    <tr>\n",
       "      <th>North America</th>\n",
       "      <td>0.545090</td>\n",
       "    </tr>\n",
       "    <tr>\n",
       "      <th>Oceania</th>\n",
       "      <td>3.124898</td>\n",
       "    </tr>\n",
       "    <tr>\n",
       "      <th>Rest of Europe</th>\n",
       "      <td>0.827943</td>\n",
       "    </tr>\n",
       "    <tr>\n",
       "      <th>South America</th>\n",
       "      <td>1.321382</td>\n",
       "    </tr>\n",
       "  </tbody>\n",
       "</table>\n",
       "</div>"
      ],
      "text/plain": [
       "                                    std\n",
       "Region                                 \n",
       "Africa                         2.734183\n",
       "Asia                           7.162460\n",
       "Central America and Caribbean  1.414813\n",
       "European Union                 0.758527\n",
       "Middle East                    2.779084\n",
       "North America                  0.545090\n",
       "Oceania                        3.124898\n",
       "Rest of Europe                 0.827943\n",
       "South America                  1.321382"
      ]
     },
     "execution_count": 36,
     "metadata": {},
     "output_type": "execute_result"
    }
   ],
   "source": [
    "abdullah_thinness = AR_DF.groupby(['Region'])['Thinness_ten_nineteen_years'].agg(['std'])\n",
    "abdullah_thinness"
   ]
  },
  {
   "cell_type": "markdown",
   "id": "fcb7278f-c05f-4da6-b91a-41305dc36ae6",
   "metadata": {},
   "source": [
    "This shows that Asia has the highest variability in thinness among teenagers"
   ]
  },
  {
   "cell_type": "markdown",
   "id": "99895404-4be7-4755-8bcf-1edeaf364ed2",
   "metadata": {},
   "source": [
    "**Q-30: How does measles incidence vary within Pakistan over the years?**"
   ]
  },
  {
   "cell_type": "code",
   "execution_count": 37,
   "id": "310f6266-d3fa-4740-8969-7b5061d1942e",
   "metadata": {},
   "outputs": [
    {
     "data": {
      "text/plain": [
       "Year\n",
       "2000    33.0\n",
       "2001    33.0\n",
       "2002    33.0\n",
       "2003    33.0\n",
       "2004    33.0\n",
       "2005    33.0\n",
       "2006    32.0\n",
       "2007    33.0\n",
       "2008    34.0\n",
       "2009    30.0\n",
       "2010    34.0\n",
       "2011    38.0\n",
       "2012    42.0\n",
       "2013    43.0\n",
       "2014    48.0\n",
       "2015    54.0\n",
       "Name: Measles, dtype: float64"
      ]
     },
     "execution_count": 37,
     "metadata": {},
     "output_type": "execute_result"
    }
   ],
   "source": [
    "abdullah_measle = AR_DF[AR_DF['Country']=='Pakistan']\n",
    "abdullah_measle = abdullah_measle.groupby(['Year'])['Measles'].mean()\n",
    "abdullah_measle"
   ]
  },
  {
   "cell_type": "markdown",
   "id": "37b04662-bbd4-429f-94b4-6159507a4f6b",
   "metadata": {},
   "source": [
    "**Q-31: Which region has the highest average adult mortality rate?**"
   ]
  },
  {
   "cell_type": "code",
   "execution_count": 38,
   "id": "e2d9cfbd-a997-45a2-8471-05257277ca0e",
   "metadata": {},
   "outputs": [
    {
     "data": {
      "text/plain": [
       "Region\n",
       "Africa                           319.073434\n",
       "Asia                             171.166565\n",
       "Central America and Caribbean    163.581169\n",
       "European Union                   104.395392\n",
       "Middle East                      111.158891\n",
       "North America                    100.693844\n",
       "Oceania                          162.886801\n",
       "Rest of Europe                   138.582856\n",
       "South America                    155.275326\n",
       "Name: Adult_mortality, dtype: float64"
      ]
     },
     "execution_count": 38,
     "metadata": {},
     "output_type": "execute_result"
    }
   ],
   "source": [
    "abdullah_mortality_rate = AR_DF.groupby(['Region'])['Adult_mortality'].mean()\n",
    "abdullah_mortality_rate"
   ]
  },
  {
   "cell_type": "markdown",
   "id": "914f5ff9-1b38-44ca-9f42-c70234019249",
   "metadata": {},
   "source": [
    "**Q-32: What is the average GDP per capita in South American countries?**"
   ]
  },
  {
   "cell_type": "code",
   "execution_count": 39,
   "id": "783f7389-3ce1-4f58-8665-0631eeb981fa",
   "metadata": {},
   "outputs": [
    {
     "data": {
      "text/plain": [
       "Country\n",
       "Argentina        12169.1250\n",
       "Bolivia           2414.3750\n",
       "Brazil            7991.5000\n",
       "Chile            11067.0000\n",
       "Colombia          4911.0625\n",
       "Ecuador           5176.9375\n",
       "Guyana            4589.6875\n",
       "Paraguay          4402.6250\n",
       "Peru              4626.1875\n",
       "Suriname          8133.3750\n",
       "Uruguay          12007.6250\n",
       "Venezuela, RB     9294.8750\n",
       "Name: GDP_per_capita, dtype: float64"
      ]
     },
     "execution_count": 39,
     "metadata": {},
     "output_type": "execute_result"
    }
   ],
   "source": [
    "abdullah_GDP = AR_DF[AR_DF['Region']=='South America']\n",
    "abdullah_GDP = abdullah_GDP.groupby(['Country'])['GDP_per_capita'].mean()\n",
    "abdullah_GDP"
   ]
  },
  {
   "cell_type": "markdown",
   "id": "6705e0ff-88f6-44e7-87c3-88aa1a0750e6",
   "metadata": {},
   "source": [
    "**Q-33: How does the prevalence of measles vary between 2000 and 2015 in Middle Eastern countries?**"
   ]
  },
  {
   "cell_type": "code",
   "execution_count": 40,
   "id": "1cf4d023-88f7-4959-acf9-c6e73e06c477",
   "metadata": {},
   "outputs": [
    {
     "data": {
      "text/plain": [
       "Year\n",
       "2000    81.785714\n",
       "2001    82.142857\n",
       "2002    80.714286\n",
       "2003    79.928571\n",
       "2004    81.142857\n",
       "2005    82.000000\n",
       "2006    82.571429\n",
       "2007    84.142857\n",
       "2008    85.285714\n",
       "2009    88.071429\n",
       "2010    87.928571\n",
       "2011    86.571429\n",
       "2012    84.928571\n",
       "2013    84.571429\n",
       "2014    83.857143\n",
       "2015    84.500000\n",
       "Name: Measles, dtype: float64"
      ]
     },
     "execution_count": 40,
     "metadata": {},
     "output_type": "execute_result"
    }
   ],
   "source": [
    "abdullah_Measles_occurance = AR_DF[AR_DF['Region']=='Middle East']\n",
    "abdullah_Measles_occurance = abdullah_Measles_occurance.groupby(['Year'])['Measles'].mean()\n",
    "abdullah_Measles_occurance"
   ]
  },
  {
   "cell_type": "markdown",
   "id": "d6abe6be-cc01-4bbc-80ca-8b946a635783",
   "metadata": {},
   "source": [
    "**Q-34: Is there a correlation between schooling attainment and alcohol consumption?**"
   ]
  },
  {
   "cell_type": "code",
   "execution_count": 41,
   "id": "3c5e8118-c6b7-4135-b965-fb1a222e5fcb",
   "metadata": {},
   "outputs": [
    {
     "data": {
      "text/plain": [
       "0.6157280402871451"
      ]
     },
     "execution_count": 41,
     "metadata": {},
     "output_type": "execute_result"
    }
   ],
   "source": [
    "abdullah_Alcohol_Consumption = AR_DF['Schooling'].corr(AR_DF['Alcohol_consumption'])\n",
    "abdullah_Alcohol_Consumption"
   ]
  },
  {
   "cell_type": "markdown",
   "id": "27ca2813-26d7-4307-ae29-4d94921599c8",
   "metadata": {},
   "source": [
    "Yes there is a strong correlation between schooling and alcohol consumption"
   ]
  },
  {
   "cell_type": "markdown",
   "id": "1749fd71-149a-4f9f-8316-68188f9eeb7b",
   "metadata": {},
   "source": [
    "**Q-35: How does HIV incidence compare between South American and Asian countries?**"
   ]
  },
  {
   "cell_type": "code",
   "execution_count": 42,
   "id": "d3a2b7db-4dd8-425c-a18e-7ba0b4503645",
   "metadata": {},
   "outputs": [
    {
     "name": "stdout",
     "output_type": "stream",
     "text": [
      "Mean HIV incidence in South American countries: 0.29833333333333334\n",
      "Mean HIV incidence in Asian countries: 0.13988425925925926\n"
     ]
    }
   ],
   "source": [
    "abdullah_south_american_countries = AR_DF[AR_DF['Region'] == 'South America']\n",
    "asian_countries = AR_DF[AR_DF['Region'] == 'Asia']\n",
    "mean_hiv_incidence_south_america = abdullah_south_american_countries['Incidents_HIV'].mean()\n",
    "mean_hiv_incidence_asia = asian_countries['Incidents_HIV'].mean()\n",
    "print(\"Mean HIV incidence in South American countries:\", mean_hiv_incidence_south_america)\n",
    "print(\"Mean HIV incidence in Asian countries:\", mean_hiv_incidence_asia)"
   ]
  },
  {
   "cell_type": "markdown",
   "id": "f2bcc31e-6cc6-4652-ab07-9704f68d771d",
   "metadata": {},
   "source": [
    "This shows that HIV incidences occur more in South American countries"
   ]
  },
  {
   "cell_type": "markdown",
   "id": "79ac477f-2ba1-4562-a9ae-e31f919d33f3",
   "metadata": {},
   "source": [
    "**Q-36: Is there a correlation between thinness among children aged five to nine years and hepatitis B vaccination coverage?**"
   ]
  },
  {
   "cell_type": "code",
   "execution_count": 43,
   "id": "15957394-1ccc-4d44-9e09-b83f72844238",
   "metadata": {},
   "outputs": [
    {
     "data": {
      "text/plain": [
       "-0.21379442412915"
      ]
     },
     "execution_count": 43,
     "metadata": {},
     "output_type": "execute_result"
    }
   ],
   "source": [
    "abdullah_Thinness_Relation = AR_DF['Hepatitis_B'].corr(AR_DF['Thinness_five_nine_years'])\n",
    "abdullah_Thinness_Relation"
   ]
  },
  {
   "cell_type": "markdown",
   "id": "8c353990-1203-4092-8f19-44cb6935aa1e",
   "metadata": {},
   "source": [
    "This shows weak correlation which means these to do not depend on each other"
   ]
  },
  {
   "cell_type": "markdown",
   "id": "89f43253-41bf-45de-a2fc-fedef9963126",
   "metadata": {},
   "source": [
    "**Q-37: Is there a trend in diphtheria vaccination coverage over time?**"
   ]
  },
  {
   "cell_type": "code",
   "execution_count": 44,
   "id": "05184714-81f1-4778-9c89-94ca242340a6",
   "metadata": {},
   "outputs": [
    {
     "data": {
      "image/png": "[encoded data removed]",
      "text/plain": [
       "<Figure size 1000x600 with 1 Axes>"
      ]
     },
     "metadata": {},
     "output_type": "display_data"
    }
   ],
   "source": [
    "abdullah_mean_diphtheria_coverage_by_year = AR_DF.groupby('Year')['Diphtheria'].mean()\n",
    "plt.figure(figsize=(10, 6))\n",
    "abdullah_mean_diphtheria_coverage_by_year.plot(kind='line', marker='o', color='b')\n",
    "plt.title('Trend in Diphtheria Vaccination Coverage Over Time')\n",
    "plt.xlabel('Year')\n",
    "plt.ylabel('Diphtheria Vaccination Coverage (%)')\n",
    "plt.grid(True)\n",
    "plt.xticks(abdullah_mean_diphtheria_coverage_by_year.index, rotation=45)\n",
    "plt.tight_layout()\n",
    "plt.show()"
   ]
  },
  {
   "cell_type": "code",
   "execution_count": null,
   "id": "a8a1c66a-d837-4523-b961-fde41fb8558e",
   "metadata": {},
   "outputs": [],
   "source": []
  },
  {
   "cell_type": "code",
   "execution_count": null,
   "id": "88829c61-1bb0-4408-8595-a2f2a6a2263e",
   "metadata": {},
   "outputs": [],
   "source": []
  },
  {
   "cell_type": "markdown",
   "id": "9a6f3074-01ca-43f4-929f-111780b4c7b5",
   "metadata": {},
   "source": [
    "# Nouman's Notebook:\n",
    "# [FA22-BDS-028]"
   ]
  },
  {
   "cell_type": "markdown",
   "id": "1e0455a2-993d-4b04-af1b-9a3ec6592549",
   "metadata": {},
   "source": [
    "**Q-38: Average life expectancy across all countries:**"
   ]
  },
  {
   "cell_type": "code",
   "execution_count": 45,
   "id": "b7138444-53fb-435d-8657-2d5bdc69ab85",
   "metadata": {},
   "outputs": [],
   "source": [
    "nomi_df=pd.read_csv('Life-Expectancy-Data-Updated.csv')\n"
   ]
  },
  {
   "cell_type": "code",
   "execution_count": 46,
   "id": "b50faf54-e5c5-4330-b122-1a86979e9a51",
   "metadata": {},
   "outputs": [
    {
     "data": {
      "text/plain": [
       "68.85607541899441"
      ]
     },
     "execution_count": 46,
     "metadata": {},
     "output_type": "execute_result"
    }
   ],
   "source": [
    "average_life_expectancy = nomi_df['Life_expectancy'].mean()\n",
    "average_life_expectancy"
   ]
  },
  {
   "cell_type": "markdown",
   "id": "7ec9dff8-daa0-4b0e-b984-877160f501df",
   "metadata": {},
   "source": [
    "**Q-39: Country with the highest infant mortality rate?**"
   ]
  },
  {
   "cell_type": "code",
   "execution_count": 47,
   "id": "9dac259b-d660-44cf-89cc-88edf7485795",
   "metadata": {},
   "outputs": [
    {
     "data": {
      "text/plain": [
       "Country                        Sierra Leone\n",
       "Region                               Africa\n",
       "Year                                   2000\n",
       "Infant_deaths                         138.1\n",
       "Under_five_deaths                     224.9\n",
       "Adult_mortality                    531.3245\n",
       "Alcohol_consumption                    3.75\n",
       "Hepatitis_B                              71\n",
       "Measles                                  60\n",
       "BMI                                    22.0\n",
       "Polio                                    46\n",
       "Diphtheria                               44\n",
       "Incidents_HIV                          1.59\n",
       "GDP_per_capita                          403\n",
       "Population_mln                         4.58\n",
       "Thinness_ten_nineteen_years             1.3\n",
       "Thinness_five_nine_years                1.4\n",
       "Schooling                               2.3\n",
       "Economy_status_Developed                  0\n",
       "Economy_status_Developing                 1\n",
       "Life_expectancy                        39.4\n",
       "Name: 1417, dtype: object"
      ]
     },
     "execution_count": 47,
     "metadata": {},
     "output_type": "execute_result"
    }
   ],
   "source": [
    "country_highest_infant_mortality = nomi_df.loc[nomi_df['Infant_deaths'].idxmax()]\n",
    "country_highest_infant_mortality\n"
   ]
  },
  {
   "cell_type": "markdown",
   "id": "b8f51667-cba5-4eb1-9f47-721327abf3ed",
   "metadata": {},
   "source": [
    "**Q-40: Correlation between GDP per capita and life expectancy:**"
   ]
  },
  {
   "cell_type": "code",
   "execution_count": 48,
   "id": "3a55f167-afbf-434f-b507-2d1e55717bd6",
   "metadata": {},
   "outputs": [
    {
     "data": {
      "text/plain": [
       "0.5830897215324402"
      ]
     },
     "execution_count": 48,
     "metadata": {},
     "output_type": "execute_result"
    }
   ],
   "source": [
    "nomi_correlation_gdp_life_expectancy = nomi_df['GDP_per_capita'].corr(nomi_df['Life_expectancy'])\n",
    "nomi_correlation_gdp_life_expectancy \n"
   ]
  },
  {
   "cell_type": "markdown",
   "id": "90c30c28-ead9-4bac-99a2-0b4f917dc42f",
   "metadata": {},
   "source": [
    "**Q-41: Outliers in adult mortality rates (using Z-score):**"
   ]
  },
  {
   "cell_type": "code",
   "execution_count": 49,
   "id": "fd24fca7-6a1b-4920-8490-db81fb177334",
   "metadata": {},
   "outputs": [
    {
     "data": {
      "text/plain": [
       "0      -0.752264\n",
       "1      -1.169371\n",
       "2       0.076810\n",
       "3       0.260638\n",
       "4      -1.168949\n",
       "          ...   \n",
       "2859    0.866673\n",
       "2860    0.374107\n",
       "2861   -0.499231\n",
       "2862    0.102361\n",
       "2863   -1.233154\n",
       "Name: Adult_mortality_Z, Length: 2864, dtype: float64"
      ]
     },
     "execution_count": 49,
     "metadata": {},
     "output_type": "execute_result"
    }
   ],
   "source": [
    "from scipy.stats import zscore\n",
    "\n",
    "nomi_df['Adult_mortality_Z'] = zscore(nomi_df['Adult_mortality'])\n",
    "outliers_adult_mortality =nomi_df[(nomi_df['Adult_mortality_Z'] > 3) | (nomi_df['Adult_mortality_Z'] < -3)]\n",
    "nomi_df['Adult_mortality_Z']\n"
   ]
  },
  {
   "cell_type": "markdown",
   "id": "2abe0fe3-2332-4c48-8f32-677738fe6c68",
   "metadata": {},
   "source": [
    "**Q-42: Correlation between alcohol consumption and adult mortality rates:**"
   ]
  },
  {
   "cell_type": "code",
   "execution_count": 50,
   "id": "f2299570-c531-4e15-a433-46f1a36bee0e",
   "metadata": {},
   "outputs": [
    {
     "data": {
      "text/plain": [
       "-0.24479375552647073"
      ]
     },
     "execution_count": 50,
     "metadata": {},
     "output_type": "execute_result"
    }
   ],
   "source": [
    "nomi_correlation_alcohol_adult_mortality = nomi_df['Alcohol_consumption'].corr(nomi_df['Adult_mortality'])\n",
    "nomi_correlation_alcohol_adult_mortality"
   ]
  },
  {
   "cell_type": "markdown",
   "id": "4243aed8-9a2f-4e7c-ab13-9f768b946f58",
   "metadata": {},
   "source": [
    "**Q-43: Difference in hepatitis B immunization rates between regions?**"
   ]
  },
  {
   "cell_type": "code",
   "execution_count": 51,
   "id": "de31e092-7d38-4766-a6e9-2960168dac8e",
   "metadata": {},
   "outputs": [
    {
     "data": {
      "text/plain": [
       "Region\n",
       "Africa                           78.025735\n",
       "Asia                             84.402778\n",
       "Central America and Caribbean    89.980263\n",
       "European Union                   89.208333\n",
       "Middle East                      88.415179\n",
       "North America                    73.291667\n",
       "Oceania                          80.664773\n",
       "Rest of Europe                   87.366667\n",
       "South America                    88.036458\n",
       "Name: Hepatitis_B, dtype: float64"
      ]
     },
     "execution_count": 51,
     "metadata": {},
     "output_type": "execute_result"
    }
   ],
   "source": [
    "nomi_hepatitis_immunization_by_region = nomi_df.groupby('Region')['Hepatitis_B'].mean()\n",
    "nomi_hepatitis_immunization_by_region"
   ]
  },
  {
   "cell_type": "markdown",
   "id": "efc65dc6-5d89-4f45-8498-60e41b6196b9",
   "metadata": {},
   "source": [
    "**Q-44: Check for duplicate country and year combinations**"
   ]
  },
  {
   "cell_type": "code",
   "execution_count": 53,
   "id": "dff19ea0-83fe-4938-bd32-65ec995e4ca1",
   "metadata": {},
   "outputs": [
    {
     "data": {
      "text/html": [
       "<div>\n",
       "<style scoped>\n",
       "    .dataframe tbody tr th:only-of-type {\n",
       "        vertical-align: middle;\n",
       "    }\n",
       "\n",
       "    .dataframe tbody tr th {\n",
       "        vertical-align: top;\n",
       "    }\n",
       "\n",
       "    .dataframe thead th {\n",
       "        text-align: right;\n",
       "    }\n",
       "</style>\n",
       "<table border=\"1\" class=\"dataframe\">\n",
       "  <thead>\n",
       "    <tr style=\"text-align: right;\">\n",
       "      <th></th>\n",
       "      <th>Country</th>\n",
       "      <th>Region</th>\n",
       "      <th>Year</th>\n",
       "      <th>Infant_deaths</th>\n",
       "      <th>Under_five_deaths</th>\n",
       "      <th>Adult_mortality</th>\n",
       "      <th>Alcohol_consumption</th>\n",
       "      <th>Hepatitis_B</th>\n",
       "      <th>Measles</th>\n",
       "      <th>BMI</th>\n",
       "      <th>...</th>\n",
       "      <th>Incidents_HIV</th>\n",
       "      <th>GDP_per_capita</th>\n",
       "      <th>Population_mln</th>\n",
       "      <th>Thinness_ten_nineteen_years</th>\n",
       "      <th>Thinness_five_nine_years</th>\n",
       "      <th>Schooling</th>\n",
       "      <th>Economy_status_Developed</th>\n",
       "      <th>Economy_status_Developing</th>\n",
       "      <th>Life_expectancy</th>\n",
       "      <th>Adult_mortality_Z</th>\n",
       "    </tr>\n",
       "  </thead>\n",
       "  <tbody>\n",
       "  </tbody>\n",
       "</table>\n",
       "<p>0 rows × 22 columns</p>\n",
       "</div>"
      ],
      "text/plain": [
       "Empty DataFrame\n",
       "Columns: [Country, Region, Year, Infant_deaths, Under_five_deaths, Adult_mortality, Alcohol_consumption, Hepatitis_B, Measles, BMI, Polio, Diphtheria, Incidents_HIV, GDP_per_capita, Population_mln, Thinness_ten_nineteen_years, Thinness_five_nine_years, Schooling, Economy_status_Developed, Economy_status_Developing, Life_expectancy, Adult_mortality_Z]\n",
       "Index: []\n",
       "\n",
       "[0 rows x 22 columns]"
      ]
     },
     "execution_count": 53,
     "metadata": {},
     "output_type": "execute_result"
    }
   ],
   "source": [
    "nomi_duplicates = nomi_df.duplicated(subset=['Country', 'Year'], keep=False)\n",
    "nomi_duplicates = nomi_df[nomi_duplicates]\n",
    "nomi_duplicates"
   ]
  },
  {
   "cell_type": "markdown",
   "id": "f3024b8e-1993-4af5-927f-85e42cf50924",
   "metadata": {},
   "source": [
    "**Q-45: Number of countries with a 'Developed' economy status:**"
   ]
  },
  {
   "cell_type": "code",
   "execution_count": 54,
   "id": "fcbdb764-7dd9-4c90-800d-92311c5b229d",
   "metadata": {},
   "outputs": [
    {
     "data": {
      "text/plain": [
       "592"
      ]
     },
     "execution_count": 54,
     "metadata": {},
     "output_type": "execute_result"
    }
   ],
   "source": [
    "num_developed_countries = nomi_df[nomi_df['Economy_status_Developed'] == 1].shape[0]\n",
    "num_developed_countries"
   ]
  },
  {
   "cell_type": "markdown",
   "id": "694a07f8-4706-4c68-a1f7-51d90ea4e1ee",
   "metadata": {},
   "source": [
    "**Q-46: Correlation between GDP per capita and infant deaths**"
   ]
  },
  {
   "cell_type": "code",
   "execution_count": 55,
   "id": "bf7b4e2b-d262-4a84-a0b5-bb432f0e19b8",
   "metadata": {},
   "outputs": [
    {
     "data": {
      "text/plain": [
       "-0.5122861147812175"
      ]
     },
     "execution_count": 55,
     "metadata": {},
     "output_type": "execute_result"
    }
   ],
   "source": [
    "nomi_correlation_gdp_infant_deaths = nomi_df['GDP_per_capita'].corr(nomi_df['Infant_deaths'])\n",
    "nomi_correlation_gdp_infant_deaths"
   ]
  },
  {
   "cell_type": "markdown",
   "id": "e7cb3f31-52e9-403b-a652-72dac7656bcd",
   "metadata": {},
   "source": [
    "**Q-47: Check the correlation between thinness in teenagers and economic status**"
   ]
  },
  {
   "cell_type": "code",
   "execution_count": 56,
   "id": "a1dad8c8-abfb-4ca0-a0f5-b2ef2322af3e",
   "metadata": {},
   "outputs": [
    {
     "data": {
      "text/html": [
       "<div>\n",
       "<style scoped>\n",
       "    .dataframe tbody tr th:only-of-type {\n",
       "        vertical-align: middle;\n",
       "    }\n",
       "\n",
       "    .dataframe tbody tr th {\n",
       "        vertical-align: top;\n",
       "    }\n",
       "\n",
       "    .dataframe thead th {\n",
       "        text-align: right;\n",
       "    }\n",
       "</style>\n",
       "<table border=\"1\" class=\"dataframe\">\n",
       "  <thead>\n",
       "    <tr style=\"text-align: right;\">\n",
       "      <th></th>\n",
       "      <th>Thinness_ten_nineteen_years</th>\n",
       "      <th>Economy_status_Developed</th>\n",
       "      <th>Economy_status_Developing</th>\n",
       "    </tr>\n",
       "  </thead>\n",
       "  <tbody>\n",
       "    <tr>\n",
       "      <th>Thinness_ten_nineteen_years</th>\n",
       "      <td>1.000000</td>\n",
       "      <td>-0.416098</td>\n",
       "      <td>0.416098</td>\n",
       "    </tr>\n",
       "    <tr>\n",
       "      <th>Economy_status_Developed</th>\n",
       "      <td>-0.416098</td>\n",
       "      <td>1.000000</td>\n",
       "      <td>-1.000000</td>\n",
       "    </tr>\n",
       "    <tr>\n",
       "      <th>Economy_status_Developing</th>\n",
       "      <td>0.416098</td>\n",
       "      <td>-1.000000</td>\n",
       "      <td>1.000000</td>\n",
       "    </tr>\n",
       "  </tbody>\n",
       "</table>\n",
       "</div>"
      ],
      "text/plain": [
       "                             Thinness_ten_nineteen_years  \\\n",
       "Thinness_ten_nineteen_years                     1.000000   \n",
       "Economy_status_Developed                       -0.416098   \n",
       "Economy_status_Developing                       0.416098   \n",
       "\n",
       "                             Economy_status_Developed  \\\n",
       "Thinness_ten_nineteen_years                 -0.416098   \n",
       "Economy_status_Developed                     1.000000   \n",
       "Economy_status_Developing                   -1.000000   \n",
       "\n",
       "                             Economy_status_Developing  \n",
       "Thinness_ten_nineteen_years                   0.416098  \n",
       "Economy_status_Developed                     -1.000000  \n",
       "Economy_status_Developing                     1.000000  "
      ]
     },
     "execution_count": 56,
     "metadata": {},
     "output_type": "execute_result"
    }
   ],
   "source": [
    "nomi_correlation = nomi_df[['Thinness_ten_nineteen_years', 'Economy_status_Developed', 'Economy_status_Developing']].corr()\n",
    "nomi_correlation"
   ]
  },
  {
   "cell_type": "markdown",
   "id": "e3dc4295-9eab-49b5-a7e2-25196969e9b7",
   "metadata": {},
   "source": [
    "**Q-48: Calculate the average schooling years for countries with a life expectancy of over 80?**"
   ]
  },
  {
   "cell_type": "code",
   "execution_count": 57,
   "id": "e8294a02-0017-4625-af8f-37666520c2a8",
   "metadata": {},
   "outputs": [
    {
     "data": {
      "text/plain": [
       "11.583805668016193"
      ]
     },
     "execution_count": 57,
     "metadata": {},
     "output_type": "execute_result"
    }
   ],
   "source": [
    "nomi_average_schooling_years = nomi_df[nomi_df['Life_expectancy'] > 80]['Schooling'].mean()\n",
    "nomi_average_schooling_years"
   ]
  },
  {
   "cell_type": "markdown",
   "id": "3bdfbd27-94e7-40b6-add5-b1e18d4d601e",
   "metadata": {},
   "source": [
    "**Q-49: How many countries have a GDP per capita over $20,000 and what is their average life expectancy?**"
   ]
  },
  {
   "cell_type": "code",
   "execution_count": 58,
   "id": "c5db52d0-7592-4b66-ad12-14b74ca32a92",
   "metadata": {},
   "outputs": [
    {
     "data": {
      "text/plain": [
       "515"
      ]
     },
     "execution_count": 58,
     "metadata": {},
     "output_type": "execute_result"
    }
   ],
   "source": [
    "nomi_high_gdp_countries = nomi_df[nomi_df['GDP_per_capita'] > 20000]\n",
    "num_high_gdp_countries = len(nomi_high_gdp_countries)\n",
    "num_high_gdp_countries"
   ]
  },
  {
   "cell_type": "markdown",
   "id": "5634d939-04bf-42a9-83e4-74d21f836544",
   "metadata": {},
   "source": [
    "**Q-50: GDP per capita over $20,000  their average life expectancy?**"
   ]
  },
  {
   "cell_type": "code",
   "execution_count": 61,
   "id": "6b596c72-8905-43e5-b40c-6d3b524f3856",
   "metadata": {},
   "outputs": [
    {
     "data": {
      "text/plain": [
       "79.17320388349513"
      ]
     },
     "execution_count": 61,
     "metadata": {},
     "output_type": "execute_result"
    }
   ],
   "source": [
    "average_life_expectancy_high_gdp = nomi_high_gdp_countries['Life_expectancy'].mean()\n",
    "average_life_expectancy_high_gdp"
   ]
  },
  {
   "cell_type": "markdown",
   "id": "d1c1bd5a-1c8d-4375-94f4-48f1185fdb53",
   "metadata": {},
   "source": [
    "**Q-51: What is the average life expectancy for countries with a developed economy status?**"
   ]
  },
  {
   "cell_type": "code",
   "execution_count": 62,
   "id": "c5c1d70a-30d7-4cdb-889b-baa5bcc3f6ac",
   "metadata": {},
   "outputs": [
    {
     "data": {
      "text/plain": [
       "78.50574324324323"
      ]
     },
     "execution_count": 62,
     "metadata": {},
     "output_type": "execute_result"
    }
   ],
   "source": [
    "nomi_average_life_expectancy_developed = nomi_df[nomi_df['Economy_status_Developed'] == 1]['Life_expectancy'].mean()\n",
    "nomi_average_life_expectancy_developed"
   ]
  },
  {
   "cell_type": "markdown",
   "id": "bbd07747-899c-499c-8eb5-81deac264ebc",
   "metadata": {},
   "source": [
    "**Q-52: Which country has the lowest incidence of HIV and what is the incidence rate?**"
   ]
  },
  {
   "cell_type": "code",
   "execution_count": 63,
   "id": "c49fc0b7-5cef-4a51-b4c7-3b1d68014f8f",
   "metadata": {},
   "outputs": [
    {
     "data": {
      "text/plain": [
       "'Philippines'"
      ]
     },
     "execution_count": 63,
     "metadata": {},
     "output_type": "execute_result"
    }
   ],
   "source": [
    "nomi_lowest_hiv_country = nomi_df.loc[nomi_df['Incidents_HIV'].idxmin()]['Country']\n",
    "lowest_hiv_rate = nomi_df['Incidents_HIV'].min()\n",
    "nomi_lowest_hiv_country"
   ]
  },
  {
   "cell_type": "code",
   "execution_count": 64,
   "id": "617b4ee9-379e-45d2-9ddb-626ad7ba8c8d",
   "metadata": {},
   "outputs": [
    {
     "data": {
      "text/plain": [
       "0.01"
      ]
     },
     "execution_count": 64,
     "metadata": {},
     "output_type": "execute_result"
    }
   ],
   "source": [
    "lowest_hiv_rate"
   ]
  },
  {
   "cell_type": "markdown",
   "id": "41de7499-2321-4fa7-817c-94ed1fb13229",
   "metadata": {},
   "source": [
    "**Q-53: Does higher schooling correlate with lower under-five death rates?**"
   ]
  },
  {
   "cell_type": "code",
   "execution_count": 65,
   "id": "ffcc0a35-d91f-44c1-91f2-68f234e85510",
   "metadata": {},
   "outputs": [
    {
     "data": {
      "text/plain": [
       "-0.7731959826091407"
      ]
     },
     "execution_count": 65,
     "metadata": {},
     "output_type": "execute_result"
    }
   ],
   "source": [
    "nomi_correlation_schooling_under_five = nomi_df[['Schooling', 'Under_five_deaths']].corr().iloc[0, 1]\n",
    "nomi_correlation_schooling_under_five "
   ]
  },
  {
   "cell_type": "markdown",
   "id": "b5b429fa-9b2a-4b3f-9849-fbb49436432f",
   "metadata": {},
   "source": [
    "**Q-54: What is the average adult mortality for the European Union countries in the dataset?**"
   ]
  },
  {
   "cell_type": "code",
   "execution_count": 66,
   "id": "cf470d17-a0ce-415b-820e-6df3856a83a1",
   "metadata": {},
   "outputs": [
    {
     "data": {
      "text/plain": [
       "104.3953923611111"
      ]
     },
     "execution_count": 66,
     "metadata": {},
     "output_type": "execute_result"
    }
   ],
   "source": [
    "nomi_average_adult_mortality_eu = nomi_df[nomi_df['Region'] == 'European Union']['Adult_mortality'].mean()\n",
    "nomi_average_adult_mortality_eu"
   ]
  },
  {
   "cell_type": "markdown",
   "id": "057bff3e-56f9-4c77-8620-da5beaa1ffb3",
   "metadata": {},
   "source": [
    "**Q-55: Which region has the highest average alcohol consumption and what is the consumption rate?**"
   ]
  },
  {
   "cell_type": "code",
   "execution_count": 67,
   "id": "1ab4cd58-97ab-4e05-940f-ecd442fbd93e",
   "metadata": {},
   "outputs": [
    {
     "data": {
      "text/plain": [
       "'European Union'"
      ]
     },
     "execution_count": 67,
     "metadata": {},
     "output_type": "execute_result"
    }
   ],
   "source": [
    "nomi_region_alcohol_consumption = nomi_df.groupby('Region')['Alcohol_consumption'].mean().idxmax()\n",
    "max_alcohol_consumption = nomi_df.groupby('Region')['Alcohol_consumption'].mean().max()\n",
    "nomi_region_alcohol_consumption"
   ]
  },
  {
   "cell_type": "code",
   "execution_count": 68,
   "id": "980ca241-2e82-49e6-bde4-54ae24ab7e3c",
   "metadata": {},
   "outputs": [
    {
     "data": {
      "text/plain": [
       "10.791319444444445"
      ]
     },
     "execution_count": 68,
     "metadata": {},
     "output_type": "execute_result"
    }
   ],
   "source": [
    "max_alcohol_consumption"
   ]
  },
  {
   "cell_type": "markdown",
   "id": "a984aeec-143a-4ba9-b49c-0c201efddda0",
   "metadata": {},
   "source": [
    "**Q-56: How many countries have an economy status marked as 'Developed'?**"
   ]
  },
  {
   "cell_type": "code",
   "execution_count": 70,
   "id": "ab3d70c0-3dd6-4402-acf7-7ba796e98c1a",
   "metadata": {},
   "outputs": [
    {
     "data": {
      "text/plain": [
       "592"
      ]
     },
     "execution_count": 70,
     "metadata": {},
     "output_type": "execute_result"
    }
   ],
   "source": [
    "nomi_num_developed_countries = len(nomi_df[nomi_df['Economy_status_Developed'] == 1])\n",
    "nomi_num_developed_countries"
   ]
  },
  {
   "cell_type": "markdown",
   "id": "540248f0-2895-4c0c-a2de-271f0798f43c",
   "metadata": {},
   "source": [
    "**Q-57: Calculate the standard deviation of the adult mortality rate?**"
   ]
  },
  {
   "cell_type": "code",
   "execution_count": 71,
   "id": "dfa76659-4012-48ad-ae97-10b01c835fca",
   "metadata": {},
   "outputs": [
    {
     "data": {
      "text/plain": [
       "114.89021826716814"
      ]
     },
     "execution_count": 71,
     "metadata": {},
     "output_type": "execute_result"
    }
   ],
   "source": [
    "std_adult_mortality = np.std(nomi_df['Adult_mortality'])\n",
    "std_adult_mortality"
   ]
  }
 ],
 "metadata": {
  "kernelspec": {
   "display_name": "Python 3 (ipykernel)",
   "language": "python",
   "name": "python3"
  },
  "language_info": {
   "codemirror_mode": {
    "name": "ipython",
    "version": 3
   },
   "file_extension": ".py",
   "mimetype": "text/x-python",
   "name": "python",
   "nbconvert_exporter": "python",
   "pygments_lexer": "ipython3",
   "version": "3.12.2"
  }
 },
 "nbformat": 4,
 "nbformat_minor": 5
}
